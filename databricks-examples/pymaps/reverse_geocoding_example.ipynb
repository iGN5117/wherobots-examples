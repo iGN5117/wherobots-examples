{
 "cells": [
  {
   "cell_type": "code",
   "execution_count": 1,
   "id": "58006583",
   "metadata": {},
   "outputs": [],
   "source": [
    "# Import local libraries\n",
    "import matplotlib.pyplot as plt\n",
    "import pandas as pd\n",
    "import numpy as np\n",
    "import os\n",
    "import time\n",
    "\n",
    "# Import GeoPandas\n",
    "import geopandas as gpd\n",
    "\n",
    "# Import PySpark\n",
    "from pyspark.sql import SparkSession\n",
    "from pyspark.sql.types import StructField, StructType, StringType, IntegerType, DoubleType, FloatType\n",
    "from pyspark.sql.functions import col\n",
    "\n",
    "# Import Apache Sedona\n",
    "from sedona.register import SedonaRegistrator\n",
    "from sedona.core.formatMapper.shapefileParser import ShapefileReader\n",
    "from sedona.utils import SedonaKryoRegistrator, KryoSerializer\n",
    "from sedona.utils.adapter import Adapter as adp"
   ]
  },
  {
   "cell_type": "markdown",
   "id": "3913aba4",
   "metadata": {},
   "source": [
    "## Define spark session if not defined yet\n",
    "No need to define spark if run in an external cloud"
   ]
  },
  {
   "cell_type": "code",
   "execution_count": 2,
   "id": "69163745",
   "metadata": {},
   "outputs": [
    {
     "name": "stdout",
     "output_type": "stream",
     "text": [
      "23/04/06 01:56:23 WARN Utils: Your hostname, Kanchans-Laptop.local resolves to a loopback address: 127.0.0.1; using 192.168.1.13 instead (on interface en0)\n",
      "23/04/06 01:56:23 WARN Utils: Set SPARK_LOCAL_IP if you need to bind to another address\n",
      ":: loading settings :: url = jar:file:/opt/homebrew/Cellar/apache-spark/3.3.1/libexec/jars/ivy-2.5.0.jar!/org/apache/ivy/core/settings/ivysettings.xml\n"
     ]
    },
    {
     "name": "stderr",
     "output_type": "stream",
     "text": [
      "Ivy Default Cache set to: /Users/kanchan/.ivy2/cache\n",
      "The jars for the packages stored in: /Users/kanchan/.ivy2/jars\n",
      "org.apache.sedona#sedona-python-adapter-3.0_2.12 added as a dependency\n",
      "org.datasyslab#geotools-wrapper added as a dependency\n",
      ":: resolving dependencies :: org.apache.spark#spark-submit-parent-3aeb0ce4-0fa7-4c4f-9f7d-06f96cd53a7d;1.0\n",
      "\tconfs: [default]\n",
      "\tfound org.apache.sedona#sedona-python-adapter-3.0_2.12;1.2.0-incubating in central\n",
      "\tfound org.locationtech.jts#jts-core;1.18.0 in central\n",
      "\tfound org.wololo#jts2geojson;0.16.1 in central\n",
      "\tfound org.apache.sedona#sedona-core-3.0_2.12;1.2.0-incubating in central\n",
      "\tfound org.scala-lang.modules#scala-collection-compat_2.12;2.5.0 in central\n",
      "\tfound org.apache.sedona#sedona-sql-3.0_2.12;1.2.0-incubating in central\n",
      "\tfound org.datasyslab#geotools-wrapper;geotools-24.0 in central\n",
      ":: resolution report :: resolve 157ms :: artifacts dl 13ms\n",
      "\t:: modules in use:\n",
      "\torg.apache.sedona#sedona-core-3.0_2.12;1.2.0-incubating from central in [default]\n",
      "\torg.apache.sedona#sedona-python-adapter-3.0_2.12;1.2.0-incubating from central in [default]\n",
      "\torg.apache.sedona#sedona-sql-3.0_2.12;1.2.0-incubating from central in [default]\n",
      "\torg.datasyslab#geotools-wrapper;geotools-24.0 from central in [default]\n",
      "\torg.locationtech.jts#jts-core;1.18.0 from central in [default]\n",
      "\torg.scala-lang.modules#scala-collection-compat_2.12;2.5.0 from central in [default]\n",
      "\torg.wololo#jts2geojson;0.16.1 from central in [default]\n",
      "\t---------------------------------------------------------------------\n",
      "\t|                  |            modules            ||   artifacts   |\n",
      "\t|       conf       | number| search|dwnlded|evicted|| number|dwnlded|\n",
      "\t---------------------------------------------------------------------\n",
      "\t|      default     |   7   |   0   |   0   |   0   ||   7   |   0   |\n",
      "\t---------------------------------------------------------------------\n",
      ":: retrieving :: org.apache.spark#spark-submit-parent-3aeb0ce4-0fa7-4c4f-9f7d-06f96cd53a7d\n",
      "\tconfs: [default]\n",
      "\t0 artifacts copied, 7 already retrieved (0kB/4ms)\n"
     ]
    },
    {
     "name": "stdout",
     "output_type": "stream",
     "text": [
      "23/04/06 01:56:24 WARN NativeCodeLoader: Unable to load native-hadoop library for your platform... using builtin-java classes where applicable\n"
     ]
    },
    {
     "name": "stderr",
     "output_type": "stream",
     "text": [
      "Setting default log level to \"WARN\".\n",
      "To adjust logging level use sc.setLogLevel(newLevel). For SparkR, use setLogLevel(newLevel).\n"
     ]
    }
   ],
   "source": [
    "try:\n",
    "    spark\n",
    "except NameError:\n",
    "    spark = SparkSession. \\\n",
    "    builder. \\\n",
    "    appName('appName'). \\\n",
    "    master('local[*]'). \\\n",
    "    config(\"spark.serializer\", KryoSerializer.getName). \\\n",
    "    config(\"spark.kryo.registrator\", SedonaKryoRegistrator.getName). \\\n",
    "    config(\"fs.s3a.aws.credentials.provider\", \"org.apache.hadoop.fs.s3a.AnonymousAWSCredentialsProvider\"). \\\n",
    "    config(\"spark.hadoop.fs.s3a.aws.credentials.provider\", \"org.apache.hadoop.fs.s3a.AnonymousAWSCredentialsProvider\"). \\\n",
    "    getOrCreate()"
   ]
  },
  {
   "cell_type": "code",
   "execution_count": 4,
   "id": "2f72ecd8",
   "metadata": {},
   "outputs": [
    {
     "name": "stdout",
     "output_type": "stream",
     "text": [
      "23/04/06 01:57:17 WARN UDTRegistration: Cannot register UDT for org.locationtech.jts.geom.Geometry, which is already registered.\n",
      "23/04/06 01:57:17 WARN UDTRegistration: Cannot register UDT for org.locationtech.jts.index.SpatialIndex, which is already registered.\n",
      "23/04/06 01:57:17 WARN SimpleFunctionRegistry: The function st_pointfromtext replaced a previously registered function.\n",
      "23/04/06 01:57:17 WARN SimpleFunctionRegistry: The function st_polygonfromtext replaced a previously registered function.\n",
      "23/04/06 01:57:17 WARN SimpleFunctionRegistry: The function st_linestringfromtext replaced a previously registered function.\n",
      "23/04/06 01:57:17 WARN SimpleFunctionRegistry: The function st_geomfromtext replaced a previously registered function.\n",
      "23/04/06 01:57:17 WARN SimpleFunctionRegistry: The function st_geomfromwkt replaced a previously registered function.\n",
      "23/04/06 01:57:17 WARN SimpleFunctionRegistry: The function st_geomfromwkb replaced a previously registered function.\n",
      "23/04/06 01:57:17 WARN SimpleFunctionRegistry: The function st_geomfromgeojson replaced a previously registered function.\n",
      "23/04/06 01:57:17 WARN SimpleFunctionRegistry: The function st_point replaced a previously registered function.\n",
      "23/04/06 01:57:17 WARN SimpleFunctionRegistry: The function st_polygonfromenvelope replaced a previously registered function.\n",
      "23/04/06 01:57:17 WARN SimpleFunctionRegistry: The function st_contains replaced a previously registered function.\n",
      "23/04/06 01:57:17 WARN SimpleFunctionRegistry: The function st_intersects replaced a previously registered function.\n",
      "23/04/06 01:57:17 WARN SimpleFunctionRegistry: The function st_within replaced a previously registered function.\n",
      "23/04/06 01:57:17 WARN SimpleFunctionRegistry: The function st_distance replaced a previously registered function.\n",
      "23/04/06 01:57:17 WARN SimpleFunctionRegistry: The function st_3ddistance replaced a previously registered function.\n",
      "23/04/06 01:57:17 WARN SimpleFunctionRegistry: The function st_convexhull replaced a previously registered function.\n",
      "23/04/06 01:57:17 WARN SimpleFunctionRegistry: The function st_npoints replaced a previously registered function.\n",
      "23/04/06 01:57:17 WARN SimpleFunctionRegistry: The function st_buffer replaced a previously registered function.\n",
      "23/04/06 01:57:17 WARN SimpleFunctionRegistry: The function st_envelope replaced a previously registered function.\n",
      "23/04/06 01:57:17 WARN SimpleFunctionRegistry: The function st_length replaced a previously registered function.\n",
      "23/04/06 01:57:17 WARN SimpleFunctionRegistry: The function st_area replaced a previously registered function.\n",
      "23/04/06 01:57:17 WARN SimpleFunctionRegistry: The function st_centroid replaced a previously registered function.\n",
      "23/04/06 01:57:17 WARN SimpleFunctionRegistry: The function st_transform replaced a previously registered function.\n",
      "23/04/06 01:57:17 WARN SimpleFunctionRegistry: The function st_intersection replaced a previously registered function.\n",
      "23/04/06 01:57:17 WARN SimpleFunctionRegistry: The function st_difference replaced a previously registered function.\n",
      "23/04/06 01:57:17 WARN SimpleFunctionRegistry: The function st_symdifference replaced a previously registered function.\n",
      "23/04/06 01:57:17 WARN SimpleFunctionRegistry: The function st_union replaced a previously registered function.\n",
      "23/04/06 01:57:17 WARN SimpleFunctionRegistry: The function st_isvalid replaced a previously registered function.\n",
      "23/04/06 01:57:17 WARN SimpleFunctionRegistry: The function st_precisionreduce replaced a previously registered function.\n",
      "23/04/06 01:57:17 WARN SimpleFunctionRegistry: The function st_equals replaced a previously registered function.\n",
      "23/04/06 01:57:17 WARN SimpleFunctionRegistry: The function st_touches replaced a previously registered function.\n",
      "23/04/06 01:57:17 WARN SimpleFunctionRegistry: The function st_overlaps replaced a previously registered function.\n",
      "23/04/06 01:57:17 WARN SimpleFunctionRegistry: The function st_crosses replaced a previously registered function.\n",
      "23/04/06 01:57:17 WARN SimpleFunctionRegistry: The function st_issimple replaced a previously registered function.\n",
      "23/04/06 01:57:17 WARN SimpleFunctionRegistry: The function st_makevalid replaced a previously registered function.\n",
      "23/04/06 01:57:17 WARN SimpleFunctionRegistry: The function st_simplifypreservetopology replaced a previously registered function.\n",
      "23/04/06 01:57:17 WARN SimpleFunctionRegistry: The function st_astext replaced a previously registered function.\n",
      "23/04/06 01:57:17 WARN SimpleFunctionRegistry: The function st_asgeojson replaced a previously registered function.\n",
      "23/04/06 01:57:17 WARN SimpleFunctionRegistry: The function st_asbinary replaced a previously registered function.\n",
      "23/04/06 01:57:17 WARN SimpleFunctionRegistry: The function st_asewkb replaced a previously registered function.\n",
      "23/04/06 01:57:17 WARN SimpleFunctionRegistry: The function st_srid replaced a previously registered function.\n",
      "23/04/06 01:57:17 WARN SimpleFunctionRegistry: The function st_setsrid replaced a previously registered function.\n",
      "23/04/06 01:57:17 WARN SimpleFunctionRegistry: The function st_geometrytype replaced a previously registered function.\n",
      "23/04/06 01:57:17 WARN SimpleFunctionRegistry: The function st_numgeometries replaced a previously registered function.\n",
      "23/04/06 01:57:17 WARN SimpleFunctionRegistry: The function st_linemerge replaced a previously registered function.\n",
      "23/04/06 01:57:17 WARN SimpleFunctionRegistry: The function st_azimuth replaced a previously registered function.\n",
      "23/04/06 01:57:17 WARN SimpleFunctionRegistry: The function st_x replaced a previously registered function.\n",
      "23/04/06 01:57:17 WARN SimpleFunctionRegistry: The function st_y replaced a previously registered function.\n",
      "23/04/06 01:57:17 WARN SimpleFunctionRegistry: The function st_z replaced a previously registered function.\n",
      "23/04/06 01:57:17 WARN SimpleFunctionRegistry: The function st_startpoint replaced a previously registered function.\n",
      "23/04/06 01:57:17 WARN SimpleFunctionRegistry: The function st_boundary replaced a previously registered function.\n",
      "23/04/06 01:57:17 WARN SimpleFunctionRegistry: The function st_minimumboundingradius replaced a previously registered function.\n",
      "23/04/06 01:57:17 WARN SimpleFunctionRegistry: The function st_minimumboundingcircle replaced a previously registered function.\n",
      "23/04/06 01:57:17 WARN SimpleFunctionRegistry: The function st_endpoint replaced a previously registered function.\n",
      "23/04/06 01:57:17 WARN SimpleFunctionRegistry: The function st_exteriorring replaced a previously registered function.\n",
      "23/04/06 01:57:17 WARN SimpleFunctionRegistry: The function st_geometryn replaced a previously registered function.\n",
      "23/04/06 01:57:17 WARN SimpleFunctionRegistry: The function st_interiorringn replaced a previously registered function.\n",
      "23/04/06 01:57:17 WARN SimpleFunctionRegistry: The function st_dump replaced a previously registered function.\n",
      "23/04/06 01:57:17 WARN SimpleFunctionRegistry: The function st_dumppoints replaced a previously registered function.\n",
      "23/04/06 01:57:17 WARN SimpleFunctionRegistry: The function st_isclosed replaced a previously registered function.\n",
      "23/04/06 01:57:17 WARN SimpleFunctionRegistry: The function st_numinteriorrings replaced a previously registered function.\n",
      "23/04/06 01:57:17 WARN SimpleFunctionRegistry: The function st_addpoint replaced a previously registered function.\n",
      "23/04/06 01:57:17 WARN SimpleFunctionRegistry: The function st_removepoint replaced a previously registered function.\n",
      "23/04/06 01:57:17 WARN SimpleFunctionRegistry: The function st_isring replaced a previously registered function.\n",
      "23/04/06 01:57:17 WARN SimpleFunctionRegistry: The function st_flipcoordinates replaced a previously registered function.\n",
      "23/04/06 01:57:17 WARN SimpleFunctionRegistry: The function st_linesubstring replaced a previously registered function.\n",
      "23/04/06 01:57:17 WARN SimpleFunctionRegistry: The function st_lineinterpolatepoint replaced a previously registered function.\n",
      "23/04/06 01:57:17 WARN SimpleFunctionRegistry: The function st_subdivideexplode replaced a previously registered function.\n",
      "23/04/06 01:57:17 WARN SimpleFunctionRegistry: The function st_subdivide replaced a previously registered function.\n",
      "23/04/06 01:57:17 WARN SimpleFunctionRegistry: The function st_makepolygon replaced a previously registered function.\n",
      "23/04/06 01:57:17 WARN SimpleFunctionRegistry: The function st_geohash replaced a previously registered function.\n",
      "23/04/06 01:57:17 WARN SimpleFunctionRegistry: The function st_geomfromgeohash replaced a previously registered function.\n",
      "23/04/06 01:57:17 WARN SimpleFunctionRegistry: The function st_collect replaced a previously registered function.\n",
      "23/04/06 01:57:17 WARN SimpleFunctionRegistry: The function st_multi replaced a previously registered function.\n",
      "23/04/06 01:57:17 WARN SimpleFunctionRegistry: The function rs_normalizeddifference replaced a previously registered function.\n",
      "23/04/06 01:57:17 WARN SimpleFunctionRegistry: The function rs_mean replaced a previously registered function.\n",
      "23/04/06 01:57:17 WARN SimpleFunctionRegistry: The function rs_mode replaced a previously registered function.\n",
      "23/04/06 01:57:17 WARN SimpleFunctionRegistry: The function rs_fetchregion replaced a previously registered function.\n",
      "23/04/06 01:57:17 WARN SimpleFunctionRegistry: The function rs_greaterthan replaced a previously registered function.\n",
      "23/04/06 01:57:17 WARN SimpleFunctionRegistry: The function rs_greaterthanequal replaced a previously registered function.\n",
      "23/04/06 01:57:17 WARN SimpleFunctionRegistry: The function rs_lessthan replaced a previously registered function.\n",
      "23/04/06 01:57:17 WARN SimpleFunctionRegistry: The function rs_lessthanequal replaced a previously registered function.\n",
      "23/04/06 01:57:17 WARN SimpleFunctionRegistry: The function rs_addbands replaced a previously registered function.\n",
      "23/04/06 01:57:17 WARN SimpleFunctionRegistry: The function rs_subtractbands replaced a previously registered function.\n",
      "23/04/06 01:57:17 WARN SimpleFunctionRegistry: The function rs_dividebands replaced a previously registered function.\n",
      "23/04/06 01:57:17 WARN SimpleFunctionRegistry: The function rs_multiplyfactor replaced a previously registered function.\n",
      "23/04/06 01:57:17 WARN SimpleFunctionRegistry: The function rs_multiplybands replaced a previously registered function.\n",
      "23/04/06 01:57:17 WARN SimpleFunctionRegistry: The function rs_bitwiseand replaced a previously registered function.\n",
      "23/04/06 01:57:17 WARN SimpleFunctionRegistry: The function rs_bitwiseor replaced a previously registered function.\n",
      "23/04/06 01:57:17 WARN SimpleFunctionRegistry: The function rs_count replaced a previously registered function.\n",
      "23/04/06 01:57:17 WARN SimpleFunctionRegistry: The function rs_modulo replaced a previously registered function.\n",
      "23/04/06 01:57:17 WARN SimpleFunctionRegistry: The function rs_getband replaced a previously registered function.\n",
      "23/04/06 01:57:17 WARN SimpleFunctionRegistry: The function rs_squareroot replaced a previously registered function.\n",
      "23/04/06 01:57:17 WARN SimpleFunctionRegistry: The function rs_logicaldifference replaced a previously registered function.\n",
      "23/04/06 01:57:17 WARN SimpleFunctionRegistry: The function rs_logicalover replaced a previously registered function.\n",
      "23/04/06 01:57:17 WARN SimpleFunctionRegistry: The function rs_base64 replaced a previously registered function.\n",
      "23/04/06 01:57:17 WARN SimpleFunctionRegistry: The function rs_html replaced a previously registered function.\n",
      "23/04/06 01:57:17 WARN SimpleFunctionRegistry: The function rs_array replaced a previously registered function.\n",
      "23/04/06 01:57:17 WARN SimpleFunctionRegistry: The function rs_normalize replaced a previously registered function.\n",
      "23/04/06 01:57:17 WARN SimpleFunctionRegistry: The function st_union_aggr replaced a previously registered function.\n",
      "23/04/06 01:57:17 WARN SimpleFunctionRegistry: The function st_envelope_aggr replaced a previously registered function.\n",
      "23/04/06 01:57:17 WARN SimpleFunctionRegistry: The function st_intersection_aggr replaced a previously registered function.\n"
     ]
    }
   ],
   "source": [
    "SedonaRegistrator.registerAll(spark)\n",
    "sc = spark.sparkContext\n",
    "sc.setSystemProperty(\"sedona.global.charset\", \"utf8\")\n",
    "sc._jsc.hadoopConfiguration().set(\"fs.s3a.aws.credentials.provider\", \"org.apache.hadoop.fs.s3a.AnonymousAWSCredentialsProvider\")"
   ]
  },
  {
   "cell_type": "markdown",
   "id": "fbee4b6c",
   "metadata": {},
   "source": [
    "# Use the prefix in all your DBFS path\n",
    "\n",
    "If you use DBFS, Databricks requires that all paths must be absolute. You can use the variable below as the prefix for all paths."
   ]
  },
  {
   "cell_type": "code",
   "execution_count": 3,
   "id": "cdf9777e",
   "metadata": {},
   "outputs": [
    {
     "name": "stdout",
     "output_type": "stream",
     "text": [
      "/\n"
     ]
    }
   ],
   "source": [
    "from pathlib import Path\n",
    "\n",
    "PATH_PREFIX= str(Path.home()) + '/' if os.environ.get('ENV_WB', 'false') == 'true' else '/'\n",
    "\n",
    "print(PATH_PREFIX)"
   ]
  },
  {
   "cell_type": "markdown",
   "id": "575fb158",
   "metadata": {},
   "source": [
    "## Reverse Geocoding\n",
    "Perform reverse geocoding using the package road_network_toolbox"
   ]
  },
  {
   "cell_type": "markdown",
   "id": "6b7bc37c",
   "metadata": {},
   "source": [
    "### Import PyMaps and Set SparkSession to RoadNetworkToolbox"
   ]
  },
  {
   "cell_type": "code",
   "execution_count": 5,
   "id": "a414ece3",
   "metadata": {},
   "outputs": [],
   "source": [
    "import pymaps\n",
    "from pymaps import SparkRegistration\n",
    "\n",
    "SparkRegistration.set_spark_session(spark)"
   ]
  },
  {
   "cell_type": "markdown",
   "id": "8f0bc4aa",
   "metadata": {},
   "source": [
    "## Create Instance of Reverse Geocoding"
   ]
  },
  {
   "cell_type": "code",
   "execution_count": 6,
   "id": "3657fb86",
   "metadata": {},
   "outputs": [],
   "source": [
    "rgc = pymaps.ReverseGeocoding()"
   ]
  },
  {
   "cell_type": "markdown",
   "id": "86d450dc",
   "metadata": {},
   "source": [
    "### Load OpenStreetMaps File Into RoadNetworkToolbox\n",
    "The following step load_OSM is executed only once to load osm data. It might take time"
   ]
  },
  {
   "cell_type": "code",
   "execution_count": 8,
   "id": "3a86a705",
   "metadata": {},
   "outputs": [
    {
     "name": "stdout",
     "output_type": "stream",
     "text": [
      "23/04/06 01:59:44 WARN SimpleFunctionRegistry: The function get_address_nodes replaced a previously registered function.\n"
     ]
    },
    {
     "name": "stderr",
     "output_type": "stream",
     "text": [
      "[Stage 7:>                                                          (0 + 1) / 1]\r"
     ]
    },
    {
     "name": "stdout",
     "output_type": "stream",
     "text": [
      "+----------+-----------+---------+-----+--------------------+------------------+-------+-----+-----+--------+--------+-------+-------+------+------+-----------+--------+------+----------+-----------+--------------------+\n",
      "|        id|housenumber|housename|flats|              street|conscriptionnumber|   city|place|state|province|postcode|country|postbox|hamlet|suburb|subdistrict|district|county|       lat|        lon|            geometry|\n",
      "+----------+-----------+---------+-----+--------------------+------------------+-------+-----+-----+--------+--------+-------+-------+------+------+-----------+--------+------+----------+-----------+--------------------+\n",
      "| 367815760|       null|     null| null|                null|              null|   null| null|   MI|    null|    null|   null|   null|  null|  null|       null|    null|  null|42.3517621|-83.0626801|POINT (-83.062680...|\n",
      "|1217721054|       4421|     null| null|     Woodward Avenue|              null|Detroit| null|   MI|    null|   48201|   null|   null|  null|  null|       null|    null|  null|42.3527285|-83.0621298|POINT (-83.062129...|\n",
      "|2005738024|       4710|     null| null|         Cass Avenue|              null|Detroit| null| null|    null|   48201|     US|   null|  null|  null|       null|    null|  null|42.3540733|-83.0653679|POINT (-83.065367...|\n",
      "|2194537983|         66|     null| null|  East Forest Avenue|              null|Detroit| null| null|    null|   48201|     US|   null|  null|  null|       null|    null|  null| 42.354844|-83.0614814|POINT (-83.061481...|\n",
      "|2390690815|        460|     null| null|West Canfield Street|              null|Detroit| null| null|    null|   48201|   null|   null|  null|  null|       null|    null|  null|42.3515695| -83.065562|POINT (-83.065562...|\n",
      "|2418338352|        422|     null| null|  West Willis Street|              null|Detroit| null| null|    null|   48201|   null|   null|  null|  null|       null|    null|  null| 42.350535| -83.064125|POINT (-83.064125...|\n",
      "|2418339543|       4240|     null| null|         Cass Avenue|              null|Detroit| null| null|    null|   48201|   null|   null|  null|  null|       null|    null|  null|42.3515361|-83.0639062|POINT (-83.063906...|\n",
      "|2418339573|       4240|     null| null|         Cass Avenue|              null|Detroit| null| null|    null|   48201|   null|   null|  null|  null|       null|    null|  null| 42.351374| -83.063841|POINT (-83.063841...|\n",
      "|2418339689|       4240|     null| null|         Cass Avenue|              null|Detroit| null| null|    null|   48201|   null|   null|  null|  null|       null|    null|  null| 42.351303| -83.063803|POINT (-83.063803...|\n",
      "|2418341200|       4240|     null| null|         Cass Avenue|              null|Detroit| null| null|    null|   48201|   null|   null|  null|  null|       null|    null|  null| 42.351098| -83.063685|POINT (-83.063685...|\n",
      "|2558982038|       null|     null| null|                null|              null|Detroit| null| null|    null|    null|   null|   null|  null|  null|       null|    null|  null|42.3594618| -83.063996|POINT (-83.063996...|\n",
      "|2760041256|        101|     null| null|         Mack Avenue|              null|Detroit| null| null|    null|   48201|   null|   null|  null|  null|       null|    null|  null|42.3477838|-83.0577976|POINT (-83.057797...|\n",
      "|3342016045|       4265|     null| null|     Woodward Avenue|              null|Detroit| null| null|    null|    null|   null|   null|  null|  null|       null|    null|  null|42.3524547|-83.0616009|POINT (-83.061600...|\n",
      "|3371173515|         71|     null| null|     Garfield Street|              null|   null| null| null|    null|    null|   null|   null|  null|  null|       null|    null|  null| 42.354497|-83.0612132|POINT (-83.061213...|\n",
      "|3633669144|        441|     null| null|West Canfield Street|              null|   null| null| null|    null|    null|   null|   null|  null|  null|       null|    null|  null|42.3512927|-83.0652117|POINT (-83.065211...|\n",
      "|3633669166|       3965|     null| null|     Woodward Avenue|              null|Detroit| null|   MI|    null|   48201|   null|   null|  null|  null|       null|    null|  null|42.3503889|-83.0601644|POINT (-83.060164...|\n",
      "|4119717262|       4130|     null| null|         Cass Avenue|              null|   null| null| null|    null|    null|   null|   null|  null|  null|       null|    null|  null|42.3501143|-83.0630264|POINT (-83.063026...|\n",
      "|4119748254|       3670|     null| null|     Woodward Avenue|              null|Detroit| null|   MI|    null|   48201|   null|   null|  null|  null|       null|    null|  null|42.3483562| -83.058174|POINT (-83.058174...|\n",
      "|4119748255|       3433|     null| null|     Woodward Avenue|              null|Detroit| null|   MI|    null|   48201|   null|   null|  null|  null|       null|    null|  null|42.3457613|-83.0570793|POINT (-83.057079...|\n",
      "|4119748266|       4704|     null| null|         Cass Avenue|              null|Detroit| null|   MI|    null|   48201|   null|   null|  null|  null|       null|    null|  null|42.3539002|-83.0652808|POINT (-83.065280...|\n",
      "+----------+-----------+---------+-----+--------------------+------------------+-------+-----+-----+--------+--------+-------+-------+------+------+-----------+--------+------+----------+-----------+--------------------+\n",
      "only showing top 20 rows\n",
      "\n"
     ]
    },
    {
     "name": "stderr",
     "output_type": "stream",
     "text": [
      "\r",
      "                                                                                \r"
     ]
    }
   ],
   "source": [
    "rgc.load_OSM(\"s3a://wherobots-examples/data/osm.xml\")\n",
    "dfLocations = rgc.get_address_dataframe()\n",
    "dfLocations.show()"
   ]
  },
  {
   "cell_type": "code",
   "execution_count": 9,
   "id": "95e9ed27",
   "metadata": {},
   "outputs": [
    {
     "name": "stdout",
     "output_type": "stream",
     "text": [
      "root\n",
      " |-- id: long (nullable = true)\n",
      " |-- housenumber: string (nullable = true)\n",
      " |-- housename: string (nullable = true)\n",
      " |-- flats: string (nullable = true)\n",
      " |-- street: string (nullable = true)\n",
      " |-- conscriptionnumber: string (nullable = true)\n",
      " |-- city: string (nullable = true)\n",
      " |-- place: string (nullable = true)\n",
      " |-- state: string (nullable = true)\n",
      " |-- province: string (nullable = true)\n",
      " |-- postcode: string (nullable = true)\n",
      " |-- country: string (nullable = true)\n",
      " |-- postbox: string (nullable = true)\n",
      " |-- hamlet: string (nullable = true)\n",
      " |-- suburb: string (nullable = true)\n",
      " |-- subdistrict: string (nullable = true)\n",
      " |-- district: string (nullable = true)\n",
      " |-- county: string (nullable = true)\n",
      " |-- lat: double (nullable = true)\n",
      " |-- lon: double (nullable = true)\n",
      " |-- geometry: geometry (nullable = false)\n",
      "\n"
     ]
    }
   ],
   "source": [
    "dfLocations.printSchema()"
   ]
  },
  {
   "cell_type": "markdown",
   "id": "418a8caa",
   "metadata": {},
   "source": [
    "### Perform Reverse Geocoding for a Latitude and Longitude Pair"
   ]
  },
  {
   "cell_type": "markdown",
   "id": "3f9cd83a",
   "metadata": {},
   "source": [
    "#### After loading OSM data, call the following methods every time you need to perform reverse geocoding"
   ]
  },
  {
   "cell_type": "code",
   "execution_count": 10,
   "id": "96dcc44d",
   "metadata": {},
   "outputs": [],
   "source": [
    "userLat = 42.3527285\n",
    "userLon = -83.0621298"
   ]
  },
  {
   "cell_type": "code",
   "execution_count": 14,
   "id": "0a223123",
   "metadata": {},
   "outputs": [
    {
     "name": "stderr",
     "output_type": "stream",
     "text": [
      "                                                                                \r"
     ]
    },
    {
     "data": {
      "text/plain": [
       "{'found': True,\n",
       " 'housenumber': '4421',\n",
       " 'street': 'Woodward Avenue',\n",
       " 'city': 'Detroit',\n",
       " 'state': 'MI',\n",
       " 'postcode': '48201'}"
      ]
     },
     "execution_count": 14,
     "metadata": {},
     "output_type": "execute_result"
    }
   ],
   "source": [
    "fullAddress = rgc.get_address(userLat, userLon)\n",
    "fullAddress"
   ]
  },
  {
   "cell_type": "markdown",
   "id": "796d3913",
   "metadata": {},
   "source": [
    "### Perform Reverse Geocoding for a Sedona DataFrame"
   ]
  },
  {
   "cell_type": "code",
   "execution_count": 15,
   "id": "5c668bee",
   "metadata": {},
   "outputs": [
    {
     "name": "stdout",
     "output_type": "stream",
     "text": [
      "+--------------------+\n",
      "|            geometry|\n",
      "+--------------------+\n",
      "|POINT (-83.062680...|\n",
      "|POINT (-83.062129...|\n",
      "|POINT (-83.065367...|\n",
      "|POINT (-83.061481...|\n",
      "|POINT (-83.065562...|\n",
      "+--------------------+\n",
      "only showing top 5 rows\n",
      "\n"
     ]
    },
    {
     "name": "stderr",
     "output_type": "stream",
     "text": [
      "\r",
      "[Stage 10:>                                                         (0 + 1) / 1]\r",
      "\r",
      "                                                                                \r"
     ]
    }
   ],
   "source": [
    "df_points = dfLocations.select(\"geometry\").limit(100)\n",
    "df_points.show(5)"
   ]
  },
  {
   "cell_type": "code",
   "execution_count": 16,
   "id": "6aae199d",
   "metadata": {},
   "outputs": [
    {
     "name": "stderr",
     "output_type": "stream",
     "text": [
      "                                                                                \r"
     ]
    },
    {
     "name": "stdout",
     "output_type": "stream",
     "text": [
      "+--------------------+----------+-----------+---------+-----+------------------+------------------+-------+-----+-----+--------+--------+-------+-------+------+------+-----------+--------+------+----------+-----------+--------------------+--------+\n",
      "|            geometry|        id|housenumber|housename|flats|            street|conscriptionnumber|   city|place|state|province|postcode|country|postbox|hamlet|suburb|subdistrict|district|county|       lat|        lon|            geometry|distance|\n",
      "+--------------------+----------+-----------+---------+-----+------------------+------------------+-------+-----+-----+--------+--------+-------+-------+------+------+-----------+--------+------+----------+-----------+--------------------+--------+\n",
      "|POINT (-83.064125...|2418338352|        422|     null| null|West Willis Street|              null|Detroit| null| null|    null|   48201|   null|   null|  null|  null|       null|    null|  null| 42.350535| -83.064125|POINT (-83.064125...|     0.0|\n",
      "|POINT (-83.063841...|2418339573|       4240|     null| null|       Cass Avenue|              null|Detroit| null| null|    null|   48201|   null|   null|  null|  null|       null|    null|  null| 42.351374| -83.063841|POINT (-83.063841...|     0.0|\n",
      "|POINT (-83.063906...|2418339543|       4240|     null| null|       Cass Avenue|              null|Detroit| null| null|    null|   48201|   null|   null|  null|  null|       null|    null|  null|42.3515361|-83.0639062|POINT (-83.063906...|     0.0|\n",
      "|POINT (-83.062680...| 367815760|       null|     null| null|              null|              null|   null| null|   MI|    null|    null|   null|   null|  null|  null|       null|    null|  null|42.3517621|-83.0626801|POINT (-83.062680...|     0.0|\n",
      "|POINT (-83.062129...|1217721054|       4421|     null| null|   Woodward Avenue|              null|Detroit| null|   MI|    null|   48201|   null|   null|  null|  null|       null|    null|  null|42.3527285|-83.0621298|POINT (-83.062129...|     0.0|\n",
      "+--------------------+----------+-----------+---------+-----+------------------+------------------+-------+-----+-----+--------+--------+-------+-------+------+------+-----------+--------+------+----------+-----------+--------------------+--------+\n",
      "only showing top 5 rows\n",
      "\n"
     ]
    },
    {
     "name": "stderr",
     "output_type": "stream",
     "text": [
      "\r",
      "[Stage 17:==================================================>     (10 + 1) / 11]\r",
      "\r",
      "                                                                                \r"
     ]
    }
   ],
   "source": [
    "addressDf = rgc.get_address(df_points, \"geometry\")\n",
    "addressDf.show(5)"
   ]
  },
  {
   "cell_type": "code",
   "execution_count": null,
   "id": "6c653190",
   "metadata": {},
   "outputs": [],
   "source": []
  }
 ],
 "metadata": {
  "kernelspec": {
   "display_name": "Python 3 (ipykernel)",
   "language": "python",
   "name": "python3"
  },
  "language_info": {
   "codemirror_mode": {
    "name": "ipython",
    "version": 3
   },
   "file_extension": ".py",
   "mimetype": "text/x-python",
   "name": "python",
   "nbconvert_exporter": "python",
   "pygments_lexer": "ipython3",
   "version": "3.10.9"
  }
 },
 "nbformat": 4,
 "nbformat_minor": 5
}
