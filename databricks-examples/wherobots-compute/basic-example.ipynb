{
 "cells": [
  {
   "cell_type": "code",
   "source": [
    "## Import local library\n",
    "import os\n",
    "from datetime import datetime\n",
    "\n",
    "## Import GeoPandas\n",
    "import geopandas as gpd\n",
    "\n",
    "## Import PySpark\n",
    "from pyspark.sql import SparkSession\n",
    "from pyspark.sql.types import *\n",
    "from pyspark.sql.functions import col, expr, broadcast, udf, lit, struct\n",
    "\n",
    "## Import Apache Sedona\n",
    "from sedona.register import SedonaRegistrator\n",
    "from sedona.utils import SedonaKryoRegistrator, KryoSerializer\n",
    "from sedona.core.formatMapper.shapefileParser import ShapefileReader\n",
    "from sedona.utils.adapter import Adapter"
   ],
   "metadata": {
    "application/vnd.databricks.v1+cell": {
     "showTitle": false,
     "cellMetadata": {
      "rowLimit": 10000,
      "byteLimit": 2048000
     },
     "nuid": "d7a65e15-3013-4635-8e04-5f4d7dba63ae",
     "inputWidgets": {},
     "title": ""
    }
   },
   "outputs": [],
   "execution_count": 0
  },
  {
   "cell_type": "markdown",
   "source": [
    "# Define spark session if not defined yet\n",
    "No need to define spark if run in an external cloud"
   ],
   "metadata": {
    "application/vnd.databricks.v1+cell": {
     "showTitle": false,
     "cellMetadata": {
      "rowLimit": 10000,
      "byteLimit": 2048000
     },
     "nuid": "f90c3c01-0286-4e02-a8ef-0b179266fcea",
     "inputWidgets": {},
     "title": ""
    }
   }
  },
  {
   "cell_type": "code",
   "source": [
    "try:\n",
    "    spark\n",
    "except NameError:\n",
    "    spark = SparkSession. \\\n",
    "    builder. \\\n",
    "    appName('appName'). \\\n",
    "    master('local[*]'). \\\n",
    "    config(\"spark.serializer\", KryoSerializer.getName). \\\n",
    "    config(\"spark.kryo.registrator\", SedonaKryoRegistrator.getName). \\\n",
    "    config(\"fs.s3a.aws.credentials.provider\", \"org.apache.hadoop.fs.s3a.AnonymousAWSCredentialsProvider\"). \\\n",
    "    config(\"spark.hadoop.fs.s3a.aws.credentials.provider\", \"org.apache.hadoop.fs.s3a.AnonymousAWSCredentialsProvider\"). \\\n",
    "    getOrCreate()"
   ],
   "metadata": {
    "application/vnd.databricks.v1+cell": {
     "showTitle": false,
     "cellMetadata": {
      "rowLimit": 10000,
      "byteLimit": 2048000
     },
     "nuid": "936a5701-0693-4b07-aa3a-e98907eb0ef3",
     "inputWidgets": {},
     "title": ""
    }
   },
   "outputs": [],
   "execution_count": 0
  },
  {
   "cell_type": "code",
   "source": [
    "SedonaRegistrator.registerAll(spark)\n",
    "sc = spark.sparkContext\n",
    "sc.setSystemProperty(\"sedona.global.charset\", \"utf8\")\n",
    "sc._jsc.hadoopConfiguration().set(\"fs.s3a.aws.credentials.provider\", \"org.apache.hadoop.fs.s3a.AnonymousAWSCredentialsProvider\")"
   ],
   "metadata": {
    "application/vnd.databricks.v1+cell": {
     "showTitle": false,
     "cellMetadata": {
      "rowLimit": 10000,
      "byteLimit": 2048000
     },
     "nuid": "ef6d3f17-d21a-4963-8b1c-63d8101e7a04",
     "inputWidgets": {},
     "title": ""
    }
   },
   "outputs": [],
   "execution_count": 0
  },
  {
   "cell_type": "markdown",
   "source": [
    "# Use the prefix in all your DBFS path\n",
    "\n",
    "If you use DBFS, Databricks requires that all paths must be absolute. You can use the variable below as the prefix for all paths."
   ],
   "metadata": {
    "application/vnd.databricks.v1+cell": {
     "showTitle": false,
     "cellMetadata": {
      "rowLimit": 10000,
      "byteLimit": 2048000
     },
     "nuid": "528d9f1f-7ac0-40f5-9de4-cf0f1c0fc705",
     "inputWidgets": {},
     "title": ""
    }
   }
  },
  {
   "cell_type": "code",
   "source": [
    "from pathlib import Path\n",
    "\n",
    "PATH_PREFIX= str(Path.home()) + '/' if os.environ.get('ENV_WB', 'false') == 'true' else '/'\n",
    "\n",
    "print(PATH_PREFIX)"
   ],
   "metadata": {
    "application/vnd.databricks.v1+cell": {
     "showTitle": false,
     "cellMetadata": {
      "rowLimit": 10000,
      "byteLimit": 2048000
     },
     "nuid": "1961a7f3-83cb-450c-b85d-da662ee6da1f",
     "inputWidgets": {},
     "title": ""
    }
   },
   "outputs": [],
   "execution_count": 0
  },
  {
   "cell_type": "markdown",
   "source": [
    "# Load taxi pickup records to Sedona"
   ],
   "metadata": {
    "application/vnd.databricks.v1+cell": {
     "showTitle": false,
     "cellMetadata": {
      "rowLimit": 10000,
      "byteLimit": 2048000
     },
     "nuid": "7f8ad10f-bb43-44ca-981d-f0534fe49c11",
     "inputWidgets": {},
     "title": ""
    }
   }
  },
  {
   "cell_type": "code",
   "source": [
    "taxidf = spark.read.format('csv').option(\"header\",\"true\").option(\"delimiter\", \",\").load(\"s3a://wherobots-examples/data/nyc-taxi-data.csv\")\n",
    "taxidf.show()\n",
    "taxidf = taxidf.selectExpr('ST_Point(CAST(Start_Lon AS Decimal(24,20)), CAST(Start_Lat AS Decimal(24,20))) AS pickup', 'Trip_Pickup_DateTime', 'Payment_Type', 'Fare_Amt')\n",
    "taxidf = taxidf.filter(col(\"pickup\").isNotNull())\n",
    "taxidf.show()\n",
    "taxidf.createOrReplaceTempView('taxiDf')\n",
    "taxiRdd = Adapter.toSpatialRdd(taxidf, \"pickup\")\n",
    "import shutil\n",
    "shutil.rmtree(PATH_PREFIX + \"taxi-pickup.geojson\", ignore_errors=True)\n",
    "# delete first because saveAsGeoJSON doesn't support overwrite\n",
    "commit_path = PATH_PREFIX + \"taxi-pickup.geojson\"\n",
    "dbutils.fs.rm(commit_path, True)\n",
    "taxiRdd.saveAsGeoJSON(commit_path)"
   ],
   "metadata": {
    "application/vnd.databricks.v1+cell": {
     "showTitle": false,
     "cellMetadata": {
      "rowLimit": 10000,
      "byteLimit": 2048000
     },
     "nuid": "2213ac22-f1ef-4793-838d-87876c6a562f",
     "inputWidgets": {},
     "title": ""
    }
   },
   "outputs": [],
   "execution_count": 0
  },
  {
   "cell_type": "markdown",
   "source": [
    "# Load Zones to Sedona"
   ],
   "metadata": {
    "application/vnd.databricks.v1+cell": {
     "showTitle": false,
     "cellMetadata": {
      "rowLimit": 10000,
      "byteLimit": 2048000
     },
     "nuid": "6e8f0874-98db-4d22-8bb9-514ab84ffafb",
     "inputWidgets": {},
     "title": ""
    }
   }
  },
  {
   "cell_type": "code",
   "source": [
    "zoneDf = spark.read.format('csv').option(\"delimiter\", \",\").load(\"s3a://wherobots-examples/data/TIGER2018_ZCTA5.csv\")\n",
    "zoneDf = zoneDf.selectExpr('ST_GeomFromWKT(_c0) as zone', '_c1 as zipcode')\n",
    "zoneDf.show()\n",
    "zoneDf.createOrReplaceTempView('zoneDf')"
   ],
   "metadata": {
    "scrolled": true,
    "application/vnd.databricks.v1+cell": {
     "showTitle": false,
     "cellMetadata": {
      "rowLimit": 10000,
      "byteLimit": 2048000
     },
     "nuid": "4feb34b7-bf21-454a-9b54-58b0092f1be6",
     "inputWidgets": {},
     "title": ""
    }
   },
   "outputs": [],
   "execution_count": 0
  },
  {
   "cell_type": "markdown",
   "source": [
    "# Visualize Sedona Dataframes on maps"
   ],
   "metadata": {
    "application/vnd.databricks.v1+cell": {
     "showTitle": false,
     "cellMetadata": {
      "rowLimit": 10000,
      "byteLimit": 2048000
     },
     "nuid": "48f65bf2-1a0a-4d64-ab5f-052c6272b895",
     "inputWidgets": {},
     "title": ""
    }
   }
  },
  {
   "cell_type": "code",
   "source": [
    "zoneGpd = gpd.GeoDataFrame(zoneDf.toPandas(), geometry=\"zone\")\n",
    "taxiGpd = gpd.GeoDataFrame(taxidf.toPandas(), geometry=\"pickup\")\n",
    "\n",
    "zone = zoneGpd.plot(color='yellow', edgecolor='black', zorder=1)\n",
    "zone.set_xlabel('Longitude (degrees)')\n",
    "zone.set_ylabel('Latitude (degrees)')\n",
    "\n",
    "# Local view\n",
    "zone.set_xlim(-74.1, -73.8)\n",
    "zone.set_ylim(40.65, 40.9)\n",
    "\n",
    "taxi = taxiGpd.plot(ax=zone, alpha=0.01, color='red', zorder=3)"
   ],
   "metadata": {
    "application/vnd.databricks.v1+cell": {
     "showTitle": false,
     "cellMetadata": {
      "rowLimit": 10000,
      "byteLimit": 2048000
     },
     "nuid": "566422fe-8b24-4d4e-8059-624074d15b5b",
     "inputWidgets": {},
     "title": ""
    }
   },
   "outputs": [],
   "execution_count": 0
  },
  {
   "cell_type": "markdown",
   "source": [
    "# Geofence query to only keep records in Manhattan"
   ],
   "metadata": {
    "application/vnd.databricks.v1+cell": {
     "showTitle": false,
     "cellMetadata": {
      "rowLimit": 10000,
      "byteLimit": 2048000
     },
     "nuid": "ef67fec1-1d93-4950-a1a1-8f62f1e87f19",
     "inputWidgets": {},
     "title": ""
    }
   }
  },
  {
   "cell_type": "code",
   "source": [
    "taxidf_mhtn = taxidf.where('ST_Contains(ST_PolygonFromEnvelope(-74.01,40.73,-73.93,40.79), pickup)')\n",
    "\n",
    "taxiGpdMhtn = gpd.GeoDataFrame(taxidf_mhtn.toPandas(), geometry=\"pickup\")\n",
    "zoneGpd = gpd.GeoDataFrame(zoneDf.toPandas(), geometry=\"zone\")\n",
    "zone = zoneGpd.plot(color='yellow', edgecolor='black', zorder=1)\n",
    "zone.set_xlabel('Longitude (degrees)')\n",
    "zone.set_ylabel('Latitude (degrees)')\n",
    "\n",
    "# Local view\n",
    "zone.set_xlim(-74.1, -73.8)\n",
    "zone.set_ylim(40.65, 40.9)\n",
    "taxi = taxiGpdMhtn.plot(ax=zone, alpha=0.01, color='red', zorder=3)"
   ],
   "metadata": {
    "application/vnd.databricks.v1+cell": {
     "showTitle": false,
     "cellMetadata": {
      "rowLimit": 10000,
      "byteLimit": 2048000
     },
     "nuid": "8237cccd-7040-4580-ad26-dd5f3f79e4f9",
     "inputWidgets": {},
     "title": ""
    }
   },
   "outputs": [],
   "execution_count": 0
  }
 ],
 "metadata": {
  "kernelspec": {
   "display_name": "Python 3 (ipykernel)",
   "language": "python",
   "name": "python3"
  },
  "language_info": {
   "mimetype": "text/x-python",
   "name": "python",
   "pygments_lexer": "ipython3",
   "codemirror_mode": {
    "name": "ipython",
    "version": 3
   },
   "version": "3.8.10",
   "nbconvert_exporter": "python",
   "file_extension": ".py"
  },
  "application/vnd.databricks.v1+notebook": {
   "notebookName": "basic-example",
   "dashboards": [],
   "notebookMetadata": {
    "pythonIndentUnit": 4,
    "mostRecentlyExecutedCommandWithImplicitDF": {
     "commandId": 925793038450391,
     "dataframes": [
      "_sqldf"
     ]
    }
   },
   "language": "python",
   "widgets": {},
   "notebookOrigID": 1543047775827186
  }
 },
 "nbformat": 4,
 "nbformat_minor": 0
}
