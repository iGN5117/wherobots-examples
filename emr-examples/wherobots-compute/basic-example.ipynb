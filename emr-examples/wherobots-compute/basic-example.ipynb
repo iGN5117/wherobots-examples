{
 "cells": [
  {
   "cell_type": "code",
   "execution_count": 1,
   "id": "51fa118c",
   "metadata": {
    "execution": {
     "iopub.execute_input": "2023-07-10T20:54:30.072123Z",
     "iopub.status.busy": "2023-07-10T20:54:30.071807Z",
     "iopub.status.idle": "2023-07-10T20:55:06.988013Z",
     "shell.execute_reply": "2023-07-10T20:55:06.987035Z",
     "shell.execute_reply.started": "2023-07-10T20:54:30.072093Z"
    },
    "tags": []
   },
   "outputs": [
    {
     "data": {
      "application/vnd.jupyter.widget-view+json": {
       "model_id": "5ee07bb85f0c4154ad367c3be06ee9cd",
       "version_major": 2,
       "version_minor": 0
      },
      "text/plain": [
       "VBox()"
      ]
     },
     "metadata": {},
     "output_type": "display_data"
    },
    {
     "name": "stdout",
     "output_type": "stream",
     "text": [
      "Starting Spark application\n"
     ]
    },
    {
     "data": {
      "text/html": [
       "<table>\n<tbody><tr><th>ID</th><th>YARN Application ID</th><th>Kind</th><th>State</th><th>Spark UI</th><th>Driver log</th><th>User</th><th>Current session?</th></tr><tr><td>7</td><td>application_1689018288080_0008</td><td>pyspark</td><td>idle</td><td><a target=\"_blank\" href=\"http://ip-172-31-39-116.us-west-2.compute.internal:20888/proxy/application_1689018288080_0008/\" class=\"emr-proxy-link j-337BQBR5DI9UM application_1689018288080_0008\" emr-resource=\"j-337BQBR5DI9UM\n\" application-id=\"application_1689018288080_0008\">Link</a></td><td><a target=\"_blank\" href=\"http://ip-172-31-34-161.us-west-2.compute.internal:8042/node/containerlogs/container_1689018288080_0008_01_000001/livy\">Link</a></td><td>None</td><td>✔</td></tr></tbody></table>"
      ],
      "text/plain": [
       "<IPython.core.display.HTML object>"
      ]
     },
     "metadata": {},
     "output_type": "display_data"
    },
    {
     "data": {
      "application/vnd.jupyter.widget-view+json": {
       "model_id": "",
       "version_major": 2,
       "version_minor": 0
      },
      "text/plain": [
       "FloatProgress(value=0.0, bar_style='info', description='Progress:', layout=Layout(height='25px', width='50%'),…"
      ]
     },
     "metadata": {},
     "output_type": "display_data"
    },
    {
     "name": "stdout",
     "output_type": "stream",
     "text": [
      "SparkSession available as 'spark'.\n"
     ]
    },
    {
     "data": {
      "application/vnd.jupyter.widget-view+json": {
       "model_id": "",
       "version_major": 2,
       "version_minor": 0
      },
      "text/plain": [
       "FloatProgress(value=0.0, bar_style='info', description='Progress:', layout=Layout(height='25px', width='50%'),…"
      ]
     },
     "metadata": {},
     "output_type": "display_data"
    }
   ],
   "source": [
    "## Import local library\n",
    "import os\n",
    "from datetime import datetime\n",
    "\n",
    "## Import GeoPandas\n",
    "import geopandas as gpd\n",
    "import matplotlib.pyplot as plt\n",
    "\n",
    "## Import PySpark\n",
    "from pyspark.sql import SparkSession\n",
    "from pyspark.sql.types import *\n",
    "from pyspark.sql.functions import col, expr, broadcast, udf, lit, struct\n",
    "\n",
    "## Import Apache Sedona\n",
    "from sedona.spark import *"
   ]
  },
  {
   "cell_type": "markdown",
   "id": "4df6425d",
   "metadata": {},
   "source": [
    "# Create sedona session"
   ]
  },
  {
   "cell_type": "code",
   "execution_count": 2,
   "id": "4cd69453",
   "metadata": {
    "execution": {
     "iopub.execute_input": "2023-07-10T20:55:06.990006Z",
     "iopub.status.busy": "2023-07-10T20:55:06.989483Z",
     "iopub.status.idle": "2023-07-10T20:55:38.403024Z",
     "shell.execute_reply": "2023-07-10T20:55:38.402274Z",
     "shell.execute_reply.started": "2023-07-10T20:55:06.989969Z"
    },
    "tags": []
   },
   "outputs": [
    {
     "data": {
      "application/vnd.jupyter.widget-view+json": {
       "model_id": "e6f3422a2c874a1abab2437e18300a8a",
       "version_major": 2,
       "version_minor": 0
      },
      "text/plain": [
       "VBox()"
      ]
     },
     "metadata": {},
     "output_type": "display_data"
    },
    {
     "data": {
      "application/vnd.jupyter.widget-view+json": {
       "model_id": "",
       "version_major": 2,
       "version_minor": 0
      },
      "text/plain": [
       "FloatProgress(value=0.0, bar_style='info', description='Progress:', layout=Layout(height='25px', width='50%'),…"
      ]
     },
     "metadata": {},
     "output_type": "display_data"
    }
   ],
   "source": [
    "config = SedonaContext. \\\n",
    "    builder(). \\\n",
    "    appName('appName'). \\\n",
    "    config(\"fs.s3a.aws.credentials.provider\", \"org.apache.hadoop.fs.s3a.AnonymousAWSCredentialsProvider\"). \\\n",
    "    config(\"spark.hadoop.fs.s3a.aws.credentials.provider\", \"org.apache.hadoop.fs.s3a.AnonymousAWSCredentialsProvider\"). \\\n",
    "    getOrCreate()\n",
    "\n",
    "sedona = SedonaContext.create(config)"
   ]
  },
  {
   "cell_type": "code",
   "execution_count": 3,
   "id": "bdedf4f6",
   "metadata": {
    "execution": {
     "iopub.execute_input": "2023-07-10T20:55:38.404819Z",
     "iopub.status.busy": "2023-07-10T20:55:38.404569Z",
     "iopub.status.idle": "2023-07-10T20:55:38.652830Z",
     "shell.execute_reply": "2023-07-10T20:55:38.652152Z",
     "shell.execute_reply.started": "2023-07-10T20:55:38.404795Z"
    },
    "tags": []
   },
   "outputs": [
    {
     "data": {
      "application/vnd.jupyter.widget-view+json": {
       "model_id": "70b5fb032bd44ba88187a43bfdb51028",
       "version_major": 2,
       "version_minor": 0
      },
      "text/plain": [
       "VBox()"
      ]
     },
     "metadata": {},
     "output_type": "display_data"
    },
    {
     "data": {
      "application/vnd.jupyter.widget-view+json": {
       "model_id": "",
       "version_major": 2,
       "version_minor": 0
      },
      "text/plain": [
       "FloatProgress(value=0.0, bar_style='info', description='Progress:', layout=Layout(height='25px', width='50%'),…"
      ]
     },
     "metadata": {},
     "output_type": "display_data"
    }
   ],
   "source": [
    "sc = sedona.sparkContext\n",
    "sc.setSystemProperty(\"sedona.global.charset\", \"utf8\")\n",
    "sc._jsc.hadoopConfiguration().set(\"fs.s3a.aws.credentials.provider\", \"org.apache.hadoop.fs.s3a.AnonymousAWSCredentialsProvider\")\n",
    "\n",
    "def delete_path(sc, path):\n",
    "    fs = (sc._jvm.org\n",
    "          .apache.hadoop\n",
    "          .fs.FileSystem\n",
    "          .get(sc._jsc.hadoopConfiguration())\n",
    "          )\n",
    "    fs.delete(sc._jvm.org.apache.hadoop.fs.Path(path), True)"
   ]
  },
  {
   "cell_type": "markdown",
   "id": "a3eb9779",
   "metadata": {},
   "source": [
    "# Use the prefix in all your EMR path\n",
    "\n",
    "If you use EMR, EMR requires that all paths must be relative. You can use the variable below as the prefix for all paths."
   ]
  },
  {
   "cell_type": "code",
   "execution_count": 4,
   "id": "7a56d352",
   "metadata": {
    "execution": {
     "iopub.execute_input": "2023-07-10T20:55:38.654290Z",
     "iopub.status.busy": "2023-07-10T20:55:38.654047Z",
     "iopub.status.idle": "2023-07-10T20:55:38.693586Z",
     "shell.execute_reply": "2023-07-10T20:55:38.692726Z",
     "shell.execute_reply.started": "2023-07-10T20:55:38.654266Z"
    }
   },
   "outputs": [
    {
     "data": {
      "application/vnd.jupyter.widget-view+json": {
       "model_id": "b0d61d2505d14b4caf8cad3daa0548ca",
       "version_major": 2,
       "version_minor": 0
      },
      "text/plain": [
       "VBox()"
      ]
     },
     "metadata": {},
     "output_type": "display_data"
    },
    {
     "data": {
      "application/vnd.jupyter.widget-view+json": {
       "model_id": "",
       "version_major": 2,
       "version_minor": 0
      },
      "text/plain": [
       "FloatProgress(value=0.0, bar_style='info', description='Progress:', layout=Layout(height='25px', width='50%'),…"
      ]
     },
     "metadata": {},
     "output_type": "display_data"
    }
   ],
   "source": [
    "from pathlib import Path\n",
    "\n",
    "PATH_PREFIX= str(Path.home()) + '/' if os.environ.get('ENV_WB', 'false') == 'true' else ''\n",
    "\n",
    "print(PATH_PREFIX)"
   ]
  },
  {
   "cell_type": "markdown",
   "id": "46763f03",
   "metadata": {},
   "source": [
    "# Load taxi pickup records to Sedona"
   ]
  },
  {
   "cell_type": "code",
   "execution_count": 5,
   "id": "a84692a1",
   "metadata": {
    "execution": {
     "iopub.execute_input": "2023-07-10T20:55:38.694863Z",
     "iopub.status.busy": "2023-07-10T20:55:38.694614Z",
     "iopub.status.idle": "2023-07-10T20:55:49.992549Z",
     "shell.execute_reply": "2023-07-10T20:55:49.991673Z",
     "shell.execute_reply.started": "2023-07-10T20:55:38.694839Z"
    },
    "tags": []
   },
   "outputs": [
    {
     "data": {
      "application/vnd.jupyter.widget-view+json": {
       "model_id": "12298f63398441e192b2926d2ee6609c",
       "version_major": 2,
       "version_minor": 0
      },
      "text/plain": [
       "VBox()"
      ]
     },
     "metadata": {},
     "output_type": "display_data"
    },
    {
     "data": {
      "application/vnd.jupyter.widget-view+json": {
       "model_id": "",
       "version_major": 2,
       "version_minor": 0
      },
      "text/plain": [
       "FloatProgress(value=0.0, bar_style='info', description='Progress:', layout=Layout(height='25px', width='50%'),…"
      ]
     },
     "metadata": {},
     "output_type": "display_data"
    },
    {
     "name": "stdout",
     "output_type": "stream",
     "text": [
      "+-----------+--------------------+---------------------+---------------+-------------+----------+---------+---------+-----------------+----------+---------+------------+--------+---------+-------+-------+---------+---------+\n",
      "|vendor_name|Trip_Pickup_DateTime|Trip_Dropoff_DateTime|Passenger_Count|Trip_Distance| Start_Lon|Start_Lat|Rate_Code|store_and_forward|   End_Lon|  End_Lat|Payment_Type|Fare_Amt|surcharge|mta_tax|Tip_Amt|Tolls_Amt|Total_Amt|\n",
      "+-----------+--------------------+---------------------+---------------+-------------+----------+---------+---------+-----------------+----------+---------+------------+--------+---------+-------+-------+---------+---------+\n",
      "|        VTS|         1/4/09 2:52|          1/4/09 3:02|              1|         2.63|-73.991957|40.721567|     null|             null|-73.993803|40.695922|        CASH|     8.9|      0.5|   null|      0|        0|      9.4|\n",
      "|        VTS|         1/4/09 3:31|          1/4/09 3:38|              3|         4.55|-73.982102| 40.73629|     null|             null| -73.95585| 40.76803|      Credit|    12.1|      0.5|   null|      2|        0|     14.6|\n",
      "|        VTS|        1/3/09 15:43|         1/3/09 15:57|              5|        10.35|-74.002587|40.739748|     null|             null|-73.869983|40.770225|      Credit|    23.7|        0|   null|   4.74|        0|    28.44|\n",
      "|        DDS|        1/1/09 20:52|         1/1/09 21:14|              1|            5|-73.974267|40.790955|     null|             null|-73.996558|40.731849|      CREDIT|    14.9|      0.5|   null|   3.05|        0|    18.45|\n",
      "|        DDS|       1/24/09 16:18|        1/24/09 16:24|              1|          0.4| -74.00158|40.719382|     null|             null|-74.008378| 40.72035|        CASH|     3.7|        0|   null|      0|        0|      3.7|\n",
      "|        DDS|       1/16/09 22:35|        1/16/09 22:43|              2|          1.2|-73.989806|40.735006|     null|             null|-73.985021|40.724494|        CASH|     6.1|      0.5|   null|      0|        0|      6.6|\n",
      "|        DDS|        1/21/09 8:55|         1/21/09 9:05|              1|          0.4| -73.98405|40.743544|     null|             null| -73.98026|40.748926|      CREDIT|     5.7|        0|   null|      1|        0|      6.7|\n",
      "|        VTS|         1/4/09 4:31|          1/4/09 4:36|              1|         1.72|-73.992635|40.748362|     null|             null|-73.995585|40.728307|        CASH|     6.1|      0.5|   null|      0|        0|      6.6|\n",
      "|        CMT|        1/5/09 16:29|         1/5/09 16:40|              1|          1.6| -73.96969|40.749244|     null|             null|-73.990413|40.751082|      Credit|     8.7|        0|   null|    1.3|        0|       10|\n",
      "|        CMT|        1/5/09 18:53|         1/5/09 18:57|              1|          0.7|-73.955173|40.783044|     null|             null|-73.958598|40.774822|        Cash|     5.9|        0|   null|      0|        0|      5.9|\n",
      "|        CMT|         1/5/09 8:15|          1/5/09 8:16|              1|          0.3|-73.986824|40.750893|     null|             null|-73.984118|40.751437|        Cash|     2.9|        0|   null|      0|        0|      2.9|\n",
      "|        CMT|         1/5/09 6:21|          1/5/09 6:28|              1|          2.3|  -74.0061|40.748432|     null|             null|-73.978437|40.762481|        Cash|     7.7|        0|   null|      0|        0|      7.7|\n",
      "|        DDS|       1/20/09 13:44|        1/20/09 13:52|              2|          2.1|-73.983339|40.744782|     null|             null| -73.98116|40.720835|        CASH|     7.3|        0|   null|      0|        0|      7.3|\n",
      "|        CMT|        1/5/09 16:19|         1/5/09 16:26|              2|          1.2| -73.97351| 40.76028|     null|             null|-73.962933|40.775119|        Cash|     6.7|        0|   null|      0|        0|      6.7|\n",
      "|        CMT|        1/5/09 17:22|         1/5/09 17:27|              1|          0.8|-73.984426| 40.75748|     null|             null|-73.982519|40.767165|        Cash|     5.9|        0|   null|      0|        0|      5.9|\n",
      "|        CMT|        1/5/09 16:02|         1/5/09 16:18|              1|          4.5|-73.991064|40.727654|     null|             null|-73.945771| 40.77765|        Cash|    13.9|        0|   null|      0|        0|     13.9|\n",
      "|        CMT|        1/5/09 12:15|         1/5/09 12:27|              1|          1.7|-74.001678|  40.7473|     null|             null|-73.978957|40.750394|        Cash|     8.5|        0|   null|      0|        0|      8.5|\n",
      "|        CMT|         1/5/09 7:49|          1/5/09 7:54|              1|            1|-73.982457|40.731475|     null|             null|-73.973011|40.743387|      Credit|     4.5|        0|   null|      1|        0|      5.5|\n",
      "|        DDS|       1/23/09 23:57|         1/24/09 0:12|              2|            5|-73.992554|40.724476|     null|             null|-73.953065|40.777555|      CREDIT|    13.3|      0.5|   null|   3.45|        0|    17.25|\n",
      "|        CMT|        1/5/09 10:23|         1/5/09 10:33|              1|          1.3|-73.990089|40.759027|     null|             null|-73.983974|40.746938|        Cash|     7.3|        0|   null|      0|        0|      7.3|\n",
      "+-----------+--------------------+---------------------+---------------+-------------+----------+---------+---------+-----------------+----------+---------+------------+--------+---------+-------+-------+---------+---------+\n",
      "only showing top 20 rows\n",
      "\n",
      "+--------------------+--------------------+------------+--------+\n",
      "|              pickup|Trip_Pickup_DateTime|Payment_Type|Fare_Amt|\n",
      "+--------------------+--------------------+------------+--------+\n",
      "|POINT (-73.991957...|         1/4/09 2:52|        CASH|     8.9|\n",
      "|POINT (-73.982102...|         1/4/09 3:31|      Credit|    12.1|\n",
      "|POINT (-74.002587...|        1/3/09 15:43|      Credit|    23.7|\n",
      "|POINT (-73.974267...|        1/1/09 20:52|      CREDIT|    14.9|\n",
      "|POINT (-74.00158 ...|       1/24/09 16:18|        CASH|     3.7|\n",
      "|POINT (-73.989806...|       1/16/09 22:35|        CASH|     6.1|\n",
      "|POINT (-73.98405 ...|        1/21/09 8:55|      CREDIT|     5.7|\n",
      "|POINT (-73.992635...|         1/4/09 4:31|        CASH|     6.1|\n",
      "|POINT (-73.96969 ...|        1/5/09 16:29|      Credit|     8.7|\n",
      "|POINT (-73.955173...|        1/5/09 18:53|        Cash|     5.9|\n",
      "|POINT (-73.986824...|         1/5/09 8:15|        Cash|     2.9|\n",
      "|POINT (-74.0061 4...|         1/5/09 6:21|        Cash|     7.7|\n",
      "|POINT (-73.983339...|       1/20/09 13:44|        CASH|     7.3|\n",
      "|POINT (-73.97351 ...|        1/5/09 16:19|        Cash|     6.7|\n",
      "|POINT (-73.984426...|        1/5/09 17:22|        Cash|     5.9|\n",
      "|POINT (-73.991064...|        1/5/09 16:02|        Cash|    13.9|\n",
      "|POINT (-74.001678...|        1/5/09 12:15|        Cash|     8.5|\n",
      "|POINT (-73.982457...|         1/5/09 7:49|      Credit|     4.5|\n",
      "|POINT (-73.992554...|       1/23/09 23:57|      CREDIT|    13.3|\n",
      "|POINT (-73.990089...|        1/5/09 10:23|        Cash|     7.3|\n",
      "+--------------------+--------------------+------------+--------+\n",
      "only showing top 20 rows"
     ]
    }
   ],
   "source": [
    "taxidf = sedona.read.format('csv').option(\"header\",\"true\").option(\"delimiter\", \",\").load(\"s3a://wherobots-examples/data/nyc-taxi-data.csv\")\n",
    "taxidf.show()\n",
    "taxidf = taxidf.selectExpr('ST_Point(CAST(Start_Lon AS Decimal(24,20)), CAST(Start_Lat AS Decimal(24,20))) AS pickup', 'Trip_Pickup_DateTime', 'Payment_Type', 'Fare_Amt')\n",
    "taxidf = taxidf.filter(col(\"pickup\").isNotNull())\n",
    "taxidf.show()\n",
    "taxidf.createOrReplaceTempView('taxiDf')\n",
    "taxiRdd = Adapter.toSpatialRdd(taxidf, \"pickup\")\n",
    "import shutil\n",
    "shutil.rmtree(PATH_PREFIX + \"taxi-pickup.geojson\", ignore_errors=True)\n",
    "delete_path(sc, PATH_PREFIX + \"taxi-pickup.geojson\")\n",
    "taxiRdd.saveAsGeoJSON(PATH_PREFIX + \"taxi-pickup.geojson\")"
   ]
  },
  {
   "cell_type": "markdown",
   "id": "98bc5c8d",
   "metadata": {},
   "source": [
    "# Load Zones to Sedona"
   ]
  },
  {
   "cell_type": "code",
   "execution_count": 6,
   "id": "d614bcc7",
   "metadata": {
    "execution": {
     "iopub.execute_input": "2023-07-10T20:55:49.994226Z",
     "iopub.status.busy": "2023-07-10T20:55:49.993887Z",
     "iopub.status.idle": "2023-07-10T20:55:51.252740Z",
     "shell.execute_reply": "2023-07-10T20:55:51.251935Z",
     "shell.execute_reply.started": "2023-07-10T20:55:49.994191Z"
    },
    "scrolled": true
   },
   "outputs": [
    {
     "data": {
      "application/vnd.jupyter.widget-view+json": {
       "model_id": "a87fa367e49e460bba164e944834757e",
       "version_major": 2,
       "version_minor": 0
      },
      "text/plain": [
       "VBox()"
      ]
     },
     "metadata": {},
     "output_type": "display_data"
    },
    {
     "data": {
      "application/vnd.jupyter.widget-view+json": {
       "model_id": "",
       "version_major": 2,
       "version_minor": 0
      },
      "text/plain": [
       "FloatProgress(value=0.0, bar_style='info', description='Progress:', layout=Layout(height='25px', width='50%'),…"
      ]
     },
     "metadata": {},
     "output_type": "display_data"
    },
    {
     "name": "stdout",
     "output_type": "stream",
     "text": [
      "+--------------------+-------+\n",
      "|                zone|zipcode|\n",
      "+--------------------+-------+\n",
      "|POLYGON ((-74.213...|  10312|\n",
      "|POLYGON ((-74.164...|  10308|\n",
      "|POLYGON ((-74.271...|  07077|\n",
      "|POLYGON ((-74.169...|  10306|\n",
      "|POLYGON ((-74.269...|  07064|\n",
      "|POLYGON ((-74.254...|  07008|\n",
      "|POLYGON ((-74.212...|  10314|\n",
      "|POLYGON ((-74.101...|  10305|\n",
      "|POLYGON ((-74.294...|  07001|\n",
      "|POLYGON ((-74.013...|  11224|\n",
      "|POLYGON ((-74.122...|  10304|\n",
      "|POLYGON ((-74.014...|  11214|\n",
      "|POLYGON ((-73.986...|  11223|\n",
      "|POLYGON ((-74.305...|  07065|\n",
      "|MULTIPOLYGON (((-...|  07036|\n",
      "|MULTIPOLYGON (((-...|  10301|\n",
      "|POLYGON ((-74.027...|  11228|\n",
      "|POLYGON ((-74.041...|  11209|\n",
      "|POLYGON ((-74.182...|  10311|\n",
      "|POLYGON ((-74.026...|  11425|\n",
      "+--------------------+-------+\n",
      "only showing top 20 rows"
     ]
    }
   ],
   "source": [
    "zoneDf = sedona.read.format('csv').option(\"delimiter\", \",\").load(\"s3a://wherobots-examples/data/TIGER2018_ZCTA5.csv\")\n",
    "zoneDf = zoneDf.selectExpr('ST_GeomFromWKT(_c0) as zone', '_c1 as zipcode')\n",
    "zoneDf.show()\n",
    "zoneDf.createOrReplaceTempView('zoneDf')"
   ]
  },
  {
   "cell_type": "markdown",
   "id": "d2d60d32",
   "metadata": {},
   "source": [
    "# Visualize Sedona Dataframes on maps"
   ]
  },
  {
   "cell_type": "code",
   "execution_count": null,
   "id": "0c8bb405",
   "metadata": {
    "execution": {
     "iopub.execute_input": "2023-07-10T20:55:51.253985Z",
     "iopub.status.busy": "2023-07-10T20:55:51.253744Z"
    },
    "tags": []
   },
   "outputs": [
    {
     "data": {
      "application/vnd.jupyter.widget-view+json": {
       "model_id": "64883eb001964701a18d03b9462f3bcf",
       "version_major": 2,
       "version_minor": 0
      },
      "text/plain": [
       "VBox()"
      ]
     },
     "metadata": {},
     "output_type": "display_data"
    },
    {
     "data": {
      "application/vnd.jupyter.widget-view+json": {
       "model_id": "17a3b353c809434e8303eb78bd2e2399",
       "version_major": 2,
       "version_minor": 0
      },
      "text/plain": [
       "FloatProgress(value=0.0, bar_style='info', description='Progress:', layout=Layout(height='25px', width='50%'),…"
      ]
     },
     "metadata": {},
     "output_type": "display_data"
    }
   ],
   "source": [
    "zoneGpd = gpd.GeoDataFrame(zoneDf.toPandas(), geometry=\"zone\")\n",
    "taxiGpd = gpd.GeoDataFrame(taxidf.toPandas(), geometry=\"pickup\")\n",
    "\n",
    "zone = zoneGpd.plot(color='yellow', edgecolor='black', zorder=1)\n",
    "zone.set_xlabel('Longitude (degrees)')\n",
    "zone.set_ylabel('Latitude (degrees)')\n",
    "\n",
    "# Local view\n",
    "zone.set_xlim(-74.1, -73.8)\n",
    "zone.set_ylim(40.65, 40.9)\n",
    "\n",
    "taxi = taxiGpd.plot(ax=zone, alpha=0.01, color='red', zorder=3)"
   ]
  },
  {
   "cell_type": "code",
   "execution_count": null,
   "id": "0ae61746-8e8c-4455-8728-fff21c2dc454",
   "metadata": {
    "tags": []
   },
   "outputs": [],
   "source": [
    "%matplot plt"
   ]
  },
  {
   "cell_type": "markdown",
   "id": "7894e928",
   "metadata": {},
   "source": [
    "# Geofence query to only keep records in Manhattan"
   ]
  },
  {
   "cell_type": "code",
   "execution_count": null,
   "id": "578cdccf",
   "metadata": {
    "tags": []
   },
   "outputs": [],
   "source": [
    "taxidf_mhtn = taxidf.where('ST_Contains(ST_PolygonFromEnvelope(-74.01,40.73,-73.93,40.79), pickup)')\n",
    "\n",
    "taxiGpdMhtn = gpd.GeoDataFrame(taxidf_mhtn.toPandas(), geometry=\"pickup\")\n",
    "zoneGpd = gpd.GeoDataFrame(zoneDf.toPandas(), geometry=\"zone\")\n",
    "zone = zoneGpd.plot(color='yellow', edgecolor='black', zorder=1)\n",
    "zone.set_xlabel('Longitude (degrees)')\n",
    "zone.set_ylabel('Latitude (degrees)')\n",
    "\n",
    "# Local view\n",
    "zone.set_xlim(-74.1, -73.8)\n",
    "zone.set_ylim(40.65, 40.9)\n",
    "taxi = taxiGpdMhtn.plot(ax=zone, alpha=0.01, color='red', zorder=3)"
   ]
  },
  {
   "cell_type": "code",
   "execution_count": null,
   "id": "20dec607-349e-48ef-b642-a781e6fff411",
   "metadata": {
    "tags": []
   },
   "outputs": [],
   "source": [
    "%matplot plt"
   ]
  }
 ],
 "metadata": {
  "kernelspec": {
   "display_name": "PySpark",
   "language": "python",
   "name": "pysparkkernel"
  },
  "language_info": {
   "codemirror_mode": {
    "name": "python",
    "version": 3
   },
   "file_extension": ".py",
   "mimetype": "text/x-python",
   "name": "pyspark",
   "pygments_lexer": "python3"
  }
 },
 "nbformat": 4,
 "nbformat_minor": 5
}
