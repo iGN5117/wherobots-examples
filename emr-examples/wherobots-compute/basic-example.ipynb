{
 "cells": [
  {
   "cell_type": "code",
   "execution_count": null,
   "id": "51fa118c",
   "metadata": {
    "tags": []
   },
   "outputs": [],
   "source": [
    "## Import local library\n",
    "import os\n",
    "from datetime import datetime\n",
    "\n",
    "## Import GeoPandas\n",
    "import geopandas as gpd\n",
    "import matplotlib.pyplot as plt\n",
    "\n",
    "## Import PySpark\n",
    "from pyspark.sql import SparkSession\n",
    "from pyspark.sql.types import *\n",
    "from pyspark.sql.functions import col, expr, broadcast, udf, lit, struct\n",
    "\n",
    "## Import Apache Sedona\n",
    "from sedona.register import SedonaRegistrator\n",
    "from sedona.utils import SedonaKryoRegistrator, KryoSerializer\n",
    "from sedona.core.formatMapper.shapefileParser import ShapefileReader\n",
    "from sedona.utils.adapter import Adapter"
   ]
  },
  {
   "cell_type": "markdown",
   "id": "4df6425d",
   "metadata": {},
   "source": [
    "# Define spark session if not defined yet\n",
    "No need to define spark if run in an external cloud"
   ]
  },
  {
   "cell_type": "code",
   "execution_count": null,
   "id": "4cd69453",
   "metadata": {},
   "outputs": [],
   "source": [
    "try:\n",
    "    spark\n",
    "except NameError:\n",
    "    spark = SparkSession. \\\n",
    "    builder. \\\n",
    "    appName('appName'). \\\n",
    "    master('local[*]'). \\\n",
    "    config(\"spark.serializer\", KryoSerializer.getName). \\\n",
    "    config(\"spark.kryo.registrator\", SedonaKryoRegistrator.getName). \\\n",
    "    config(\"fs.s3a.aws.credentials.provider\", \"org.apache.hadoop.fs.s3a.AnonymousAWSCredentialsProvider\"). \\\n",
    "    config(\"spark.hadoop.fs.s3a.aws.credentials.provider\", \"org.apache.hadoop.fs.s3a.AnonymousAWSCredentialsProvider\"). \\\n",
    "    getOrCreate()"
   ]
  },
  {
   "cell_type": "code",
   "execution_count": null,
   "id": "bdedf4f6",
   "metadata": {
    "tags": []
   },
   "outputs": [],
   "source": [
    "SedonaRegistrator.registerAll(spark)\n",
    "sc = spark.sparkContext\n",
    "sc.setSystemProperty(\"sedona.global.charset\", \"utf8\")\n",
    "sc._jsc.hadoopConfiguration().set(\"fs.s3a.aws.credentials.provider\", \"org.apache.hadoop.fs.s3a.AnonymousAWSCredentialsProvider\")\n",
    "\n",
    "def delete_path(sc, path):\n",
    "    fs = (sc._jvm.org\n",
    "          .apache.hadoop\n",
    "          .fs.FileSystem\n",
    "          .get(sc._jsc.hadoopConfiguration())\n",
    "          )\n",
    "    fs.delete(sc._jvm.org.apache.hadoop.fs.Path(path), True)"
   ]
  },
  {
   "cell_type": "markdown",
   "id": "a3eb9779",
   "metadata": {},
   "source": [
    "# Use the prefix in all your EMR path\n",
    "\n",
    "If you use EMR, EMR requires that all paths must be relative. You can use the variable below as the prefix for all paths."
   ]
  },
  {
   "cell_type": "code",
   "execution_count": null,
   "id": "7a56d352",
   "metadata": {},
   "outputs": [],
   "source": [
    "from pathlib import Path\n",
    "\n",
    "PATH_PREFIX= str(Path.home()) + '/' if os.environ.get('ENV_WB', 'false') == 'true' else ''\n",
    "\n",
    "print(PATH_PREFIX)"
   ]
  },
  {
   "cell_type": "markdown",
   "id": "46763f03",
   "metadata": {},
   "source": [
    "# Load taxi pickup records to Sedona"
   ]
  },
  {
   "cell_type": "code",
   "execution_count": null,
   "id": "a84692a1",
   "metadata": {
    "tags": []
   },
   "outputs": [],
   "source": [
    "taxidf = spark.read.format('csv').option(\"header\",\"true\").option(\"delimiter\", \",\").load(\"s3a://wherobots-examples/data/nyc-taxi-data.csv\")\n",
    "taxidf.show()\n",
    "taxidf = taxidf.selectExpr('ST_Point(CAST(Start_Lon AS Decimal(24,20)), CAST(Start_Lat AS Decimal(24,20))) AS pickup', 'Trip_Pickup_DateTime', 'Payment_Type', 'Fare_Amt')\n",
    "taxidf = taxidf.filter(col(\"pickup\").isNotNull())\n",
    "taxidf.show()\n",
    "taxidf.createOrReplaceTempView('taxiDf')\n",
    "taxiRdd = Adapter.toSpatialRdd(taxidf, \"pickup\")\n",
    "import shutil\n",
    "shutil.rmtree(PATH_PREFIX + \"taxi-pickup.geojson\", ignore_errors=True)\n",
    "delete_path(sc, PATH_PREFIX + \"taxi-pickup.geojson\")\n",
    "taxiRdd.saveAsGeoJSON(PATH_PREFIX + \"taxi-pickup.geojson\")"
   ]
  },
  {
   "cell_type": "markdown",
   "id": "98bc5c8d",
   "metadata": {},
   "source": [
    "# Load Zones to Sedona"
   ]
  },
  {
   "cell_type": "code",
   "execution_count": null,
   "id": "d614bcc7",
   "metadata": {
    "scrolled": true
   },
   "outputs": [],
   "source": [
    "zoneDf = spark.read.format('csv').option(\"delimiter\", \",\").load(\"s3a://wherobots-examples/data/TIGER2018_ZCTA5.csv\")\n",
    "zoneDf = zoneDf.selectExpr('ST_GeomFromWKT(_c0) as zone', '_c1 as zipcode')\n",
    "zoneDf.show()\n",
    "zoneDf.createOrReplaceTempView('zoneDf')"
   ]
  },
  {
   "cell_type": "markdown",
   "id": "d2d60d32",
   "metadata": {},
   "source": [
    "# Visualize Sedona Dataframes on maps"
   ]
  },
  {
   "cell_type": "code",
   "execution_count": null,
   "id": "0c8bb405",
   "metadata": {
    "tags": []
   },
   "outputs": [],
   "source": [
    "zoneGpd = gpd.GeoDataFrame(zoneDf.toPandas(), geometry=\"zone\")\n",
    "taxiGpd = gpd.GeoDataFrame(taxidf.toPandas(), geometry=\"pickup\")\n",
    "\n",
    "zone = zoneGpd.plot(color='yellow', edgecolor='black', zorder=1)\n",
    "zone.set_xlabel('Longitude (degrees)')\n",
    "zone.set_ylabel('Latitude (degrees)')\n",
    "\n",
    "# Local view\n",
    "zone.set_xlim(-74.1, -73.8)\n",
    "zone.set_ylim(40.65, 40.9)\n",
    "\n",
    "taxi = taxiGpd.plot(ax=zone, alpha=0.01, color='red', zorder=3)"
   ]
  },
  {
   "cell_type": "code",
   "execution_count": null,
   "id": "0ae61746-8e8c-4455-8728-fff21c2dc454",
   "metadata": {
    "tags": []
   },
   "outputs": [],
   "source": [
    "%matplot plt"
   ]
  },
  {
   "cell_type": "markdown",
   "id": "7894e928",
   "metadata": {},
   "source": [
    "# Geofence query to only keep records in Manhattan"
   ]
  },
  {
   "cell_type": "code",
   "execution_count": null,
   "id": "578cdccf",
   "metadata": {
    "tags": []
   },
   "outputs": [],
   "source": [
    "taxidf_mhtn = taxidf.where('ST_Contains(ST_PolygonFromEnvelope(-74.01,40.73,-73.93,40.79), pickup)')\n",
    "\n",
    "taxiGpdMhtn = gpd.GeoDataFrame(taxidf_mhtn.toPandas(), geometry=\"pickup\")\n",
    "zoneGpd = gpd.GeoDataFrame(zoneDf.toPandas(), geometry=\"zone\")\n",
    "zone = zoneGpd.plot(color='yellow', edgecolor='black', zorder=1)\n",
    "zone.set_xlabel('Longitude (degrees)')\n",
    "zone.set_ylabel('Latitude (degrees)')\n",
    "\n",
    "# Local view\n",
    "zone.set_xlim(-74.1, -73.8)\n",
    "zone.set_ylim(40.65, 40.9)\n",
    "taxi = taxiGpdMhtn.plot(ax=zone, alpha=0.01, color='red', zorder=3)"
   ]
  },
  {
   "cell_type": "code",
   "execution_count": null,
   "id": "20dec607-349e-48ef-b642-a781e6fff411",
   "metadata": {
    "tags": []
   },
   "outputs": [],
   "source": [
    "%matplot plt"
   ]
  }
 ],
 "metadata": {
  "kernelspec": {
   "display_name": "PySpark",
   "language": "python",
   "name": "pysparkkernel"
  },
  "language_info": {
   "codemirror_mode": {
    "name": "python",
    "version": 3
   },
   "file_extension": ".py",
   "mimetype": "text/x-python",
   "name": "pyspark",
   "pygments_lexer": "python3"
  }
 },
 "nbformat": 4,
 "nbformat_minor": 5
}
