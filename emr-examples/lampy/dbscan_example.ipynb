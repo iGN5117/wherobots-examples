{
 "cells": [
  {
   "cell_type": "code",
   "execution_count": null,
   "id": "f04b804c",
   "metadata": {},
   "outputs": [],
   "source": [
    "%%configure\n",
    "{\n",
    "    \"conf\":{\n",
    "        \"spark.pyspark.virtualenv.enabled\": \"false\"\n",
    "    }\n",
    "}"
   ]
  },
  {
   "cell_type": "code",
   "execution_count": 1,
   "id": "c25f2a04",
   "metadata": {},
   "outputs": [],
   "source": [
    "# Import local libraries\n",
    "import matplotlib.pyplot as plt\n",
    "import pandas as pd\n",
    "import numpy as np\n",
    "import os\n",
    "import time\n",
    "import math\n",
    "\n",
    "# Import GeoPandas\n",
    "import geopandas as gpd\n",
    "\n",
    "# Import PySpark\n",
    "from pyspark.sql import SparkSession\n",
    "from pyspark.sql.types import StructField, StructType, StringType, IntegerType, DoubleType, FloatType\n",
    "from pyspark.sql.functions import col, array, udf, monotonically_increasing_id, expr\n",
    "\n",
    "# Import Apache Sedona\n",
    "from sedona.register import SedonaRegistrator\n",
    "from sedona.core.formatMapper.shapefileParser import ShapefileReader\n",
    "from sedona.utils import SedonaKryoRegistrator, KryoSerializer\n",
    "from sedona.utils.adapter import Adapter as adp"
   ]
  },
  {
   "cell_type": "markdown",
   "id": "422160db",
   "metadata": {},
   "source": [
    "## Define spark session if not defined yet\n",
    "No need to define spark if run in an external cloud"
   ]
  },
  {
   "cell_type": "code",
   "execution_count": 2,
   "id": "4efef88f",
   "metadata": {},
   "outputs": [
    {
     "name": "stdout",
     "output_type": "stream",
     "text": [
      "23/04/06 01:37:22 WARN Utils: Your hostname, Kanchans-Laptop.local resolves to a loopback address: 127.0.0.1; using 192.168.1.13 instead (on interface en0)\n",
      "23/04/06 01:37:22 WARN Utils: Set SPARK_LOCAL_IP if you need to bind to another address\n",
      ":: loading settings :: url = jar:file:/opt/homebrew/Cellar/apache-spark/3.3.1/libexec/jars/ivy-2.5.0.jar!/org/apache/ivy/core/settings/ivysettings.xml\n"
     ]
    },
    {
     "name": "stderr",
     "output_type": "stream",
     "text": [
      "Ivy Default Cache set to: /Users/kanchan/.ivy2/cache\n",
      "The jars for the packages stored in: /Users/kanchan/.ivy2/jars\n",
      "org.apache.sedona#sedona-python-adapter-3.0_2.12 added as a dependency\n",
      "org.datasyslab#geotools-wrapper added as a dependency\n",
      ":: resolving dependencies :: org.apache.spark#spark-submit-parent-edf27831-b7c6-49f8-bcb8-d8b0f1f610e4;1.0\n",
      "\tconfs: [default]\n",
      "\tfound org.apache.sedona#sedona-python-adapter-3.0_2.12;1.2.0-incubating in central\n",
      "\tfound org.locationtech.jts#jts-core;1.18.0 in central\n",
      "\tfound org.wololo#jts2geojson;0.16.1 in central\n",
      "\tfound org.apache.sedona#sedona-core-3.0_2.12;1.2.0-incubating in central\n",
      "\tfound org.scala-lang.modules#scala-collection-compat_2.12;2.5.0 in central\n",
      "\tfound org.apache.sedona#sedona-sql-3.0_2.12;1.2.0-incubating in central\n",
      "\tfound org.datasyslab#geotools-wrapper;1.1.0-25.2 in central\n",
      ":: resolution report :: resolve 148ms :: artifacts dl 5ms\n",
      "\t:: modules in use:\n",
      "\torg.apache.sedona#sedona-core-3.0_2.12;1.2.0-incubating from central in [default]\n",
      "\torg.apache.sedona#sedona-python-adapter-3.0_2.12;1.2.0-incubating from central in [default]\n",
      "\torg.apache.sedona#sedona-sql-3.0_2.12;1.2.0-incubating from central in [default]\n",
      "\torg.datasyslab#geotools-wrapper;1.1.0-25.2 from central in [default]\n",
      "\torg.locationtech.jts#jts-core;1.18.0 from central in [default]\n",
      "\torg.scala-lang.modules#scala-collection-compat_2.12;2.5.0 from central in [default]\n",
      "\torg.wololo#jts2geojson;0.16.1 from central in [default]\n",
      "\t---------------------------------------------------------------------\n",
      "\t|                  |            modules            ||   artifacts   |\n",
      "\t|       conf       | number| search|dwnlded|evicted|| number|dwnlded|\n",
      "\t---------------------------------------------------------------------\n",
      "\t|      default     |   7   |   0   |   0   |   0   ||   7   |   0   |\n",
      "\t---------------------------------------------------------------------\n",
      ":: retrieving :: org.apache.spark#spark-submit-parent-edf27831-b7c6-49f8-bcb8-d8b0f1f610e4\n",
      "\tconfs: [default]\n",
      "\t0 artifacts copied, 7 already retrieved (0kB/8ms)\n"
     ]
    },
    {
     "name": "stdout",
     "output_type": "stream",
     "text": [
      "23/04/06 01:37:23 WARN NativeCodeLoader: Unable to load native-hadoop library for your platform... using builtin-java classes where applicable\n"
     ]
    },
    {
     "name": "stderr",
     "output_type": "stream",
     "text": [
      "Setting default log level to \"WARN\".\n",
      "To adjust logging level use sc.setLogLevel(newLevel). For SparkR, use setLogLevel(newLevel).\n"
     ]
    }
   ],
   "source": [
    "try:\n",
    "    spark\n",
    "except NameError:\n",
    "    spark = SparkSession. \\\n",
    "    builder. \\\n",
    "    appName('appName'). \\\n",
    "    master('local[*]'). \\\n",
    "    config(\"spark.serializer\", KryoSerializer.getName). \\\n",
    "    config(\"spark.kryo.registrator\", SedonaKryoRegistrator.getName). \\\n",
    "    config(\"fs.s3a.aws.credentials.provider\", \"org.apache.hadoop.fs.s3a.AnonymousAWSCredentialsProvider\"). \\\n",
    "    config(\"spark.hadoop.fs.s3a.aws.credentials.provider\", \"org.apache.hadoop.fs.s3a.AnonymousAWSCredentialsProvider\"). \\\n",
    "    getOrCreate()"
   ]
  },
  {
   "cell_type": "code",
   "execution_count": 3,
   "id": "4c2d924e",
   "metadata": {},
   "outputs": [],
   "source": [
    "SedonaRegistrator.registerAll(spark)\n",
    "sc = spark.sparkContext\n",
    "sc.setSystemProperty(\"sedona.global.charset\", \"utf8\")\n",
    "sc._jsc.hadoopConfiguration().set(\"fs.s3a.aws.credentials.provider\", \"org.apache.hadoop.fs.s3a.AnonymousAWSCredentialsProvider\")\n",
    "\n",
    "def delete_path(sc, path):\n",
    "    fs = (sc._jvm.org\n",
    "          .apache.hadoop\n",
    "          .fs.FileSystem\n",
    "          .get(sc._jsc.hadoopConfiguration())\n",
    "          )\n",
    "    fs.delete(sc._jvm.org.apache.hadoop.fs.Path(path), True)"
   ]
  },
  {
   "cell_type": "markdown",
   "id": "4f1ea258",
   "metadata": {},
   "source": [
    "## Use the prefix in all your EMR path\n",
    "\n",
    "If you use EMR, EMR requires that all paths must be relative. Please use the variable below as the prefix for all paths because it can automatically detect if you are in Wherobots environment or not."
   ]
  },
  {
   "cell_type": "code",
   "execution_count": 4,
   "id": "f24f3133",
   "metadata": {},
   "outputs": [
    {
     "name": "stdout",
     "output_type": "stream",
     "text": [
      "/\n"
     ]
    }
   ],
   "source": [
    "from pathlib import Path\n",
    "\n",
    "PATH_PREFIX= str(Path.home()) + '/' if os.environ.get('ENV_WB', 'false') == 'true' else ''\n",
    "\n",
    "print(PATH_PREFIX)"
   ]
  },
  {
   "cell_type": "markdown",
   "id": "d0674cb2",
   "metadata": {},
   "source": [
    "## Load Airbnb Listing Data to Sedona"
   ]
  },
  {
   "cell_type": "code",
   "execution_count": 8,
   "id": "b863f16c",
   "metadata": {},
   "outputs": [
    {
     "name": "stdout",
     "output_type": "stream",
     "text": [
      "+------------------+------------------+\n",
      "|         longitude|          latitude|\n",
      "+------------------+------------------+\n",
      "|         -97.75165|30.268690000000003|\n",
      "|         -97.85608|          30.34998|\n",
      "|-97.76619000000001|           30.2309|\n",
      "|-97.74913000000001|          30.24648|\n",
      "|         -97.74167|           30.2991|\n",
      "+------------------+------------------+\n",
      "only showing top 5 rows\n",
      "\n"
     ]
    }
   ],
   "source": [
    "listings_df = spark.read.format(\"csv\").option(\"header\",False).load(\"s3a://wherobots-examples/data/airbnb_part.csv\")\n",
    "listings_df.createOrReplaceTempView(\"listings_df\")\n",
    "listings_df = spark.sql(\"select double(_c0) as longitude, double(_c1) as latitude from listings_df\")\n",
    "listings_df.show(5)"
   ]
  },
  {
   "cell_type": "code",
   "execution_count": 9,
   "id": "874aa343",
   "metadata": {},
   "outputs": [
    {
     "name": "stdout",
     "output_type": "stream",
     "text": [
      "+---+--------------------+\n",
      "| id|            geometry|\n",
      "+---+--------------------+\n",
      "|  0|POINT (-97.75165 ...|\n",
      "|  1|POINT (-97.85608 ...|\n",
      "|  2|POINT (-97.766190...|\n",
      "|  3|POINT (-97.749130...|\n",
      "|  4|POINT (-97.74167 ...|\n",
      "+---+--------------------+\n",
      "only showing top 5 rows\n",
      "\n"
     ]
    }
   ],
   "source": [
    "## add id column and convert longitude and latitude into feature vectors\n",
    "listings_df = listings_df.withColumn(\"id\", monotonically_increasing_id())\n",
    "listings_df = listings_df.withColumn(\"geometry\", expr(\"ST_Point(double(longitude), double(latitude))\"))\n",
    "listings_df = listings_df.drop('latitude').drop('longitude')\n",
    "listings_df.createOrReplaceTempView(\"listings_df\")\n",
    "listings_df.show(5)"
   ]
  },
  {
   "cell_type": "markdown",
   "id": "60bb4f2c",
   "metadata": {},
   "source": [
    "## Perform DBSCAN Clustering\n",
    "Cluster the points based on DBSCAN algorithm. For each point the returned DataFrame conatins the cluster labels with the column name component."
   ]
  },
  {
   "cell_type": "code",
   "execution_count": 14,
   "id": "091fce4b",
   "metadata": {},
   "outputs": [],
   "source": [
    "from lampy import DBSCAN\n",
    "from lampy import SparkRegistration\n",
    "\n",
    "SparkRegistration.set_spark_session(spark)"
   ]
  },
  {
   "cell_type": "code",
   "execution_count": 15,
   "id": "40758873",
   "metadata": {},
   "outputs": [
    {
     "name": "stderr",
     "output_type": "stream",
     "text": [
      "[Stage 1808:============================================>      (175 + 10) / 201]1]\r"
     ]
    },
    {
     "name": "stdout",
     "output_type": "stream",
     "text": [
      "+-----+---------+----------+\n",
      "|point|component|core_point|\n",
      "+-----+---------+----------+\n",
      "|  356|        0|      true|\n",
      "|  472|        0|      true|\n",
      "|  338|        0|      true|\n",
      "|  566|        0|      true|\n",
      "|  103|        0|     false|\n",
      "|  358|        0|     false|\n",
      "|  293|        0|      true|\n",
      "|  257|        0|      true|\n",
      "|  506|        0|      true|\n",
      "|  110|        0|      true|\n",
      "|  446|        0|      true|\n",
      "|  441|        0|      true|\n",
      "|  551|        0|      true|\n",
      "|   36|        0|      true|\n",
      "|   26|        0|      true|\n",
      "|  404|        0|      true|\n",
      "|  403|        0|      true|\n",
      "|  521|        0|      true|\n",
      "|  474|        0|      true|\n",
      "|  211|        0|      true|\n",
      "+-----+---------+----------+\n",
      "only showing top 20 rows\n",
      "\n"
     ]
    },
    {
     "name": "stderr",
     "output_type": "stream",
     "text": [
      "\r",
      "                                                                                \r"
     ]
    }
   ],
   "source": [
    "df_clusters = DBSCAN.fit(listings_df, geometry=\"geometry\", epsilon=0.02, min_pts=4)\n",
    "df_clusters.createOrReplaceTempView(\"df_clusters\")\n",
    "df_clusters.show()"
   ]
  },
  {
   "cell_type": "markdown",
   "id": "b1ee3362",
   "metadata": {},
   "source": [
    "## Perfrom Post Processing on Clustered Data For Visualization"
   ]
  },
  {
   "cell_type": "code",
   "execution_count": 16,
   "id": "601cfb74",
   "metadata": {},
   "outputs": [
    {
     "name": "stderr",
     "output_type": "stream",
     "text": [
      "[Stage 2052:==========================================>        (166 + 11) / 201]\r"
     ]
    },
    {
     "name": "stdout",
     "output_type": "stream",
     "text": [
      "+---+--------------------+-----+----------+\n",
      "| id|            geometry|label|core_point|\n",
      "+---+--------------------+-----+----------+\n",
      "|  0|POINT (-97.75165 ...|    0|      true|\n",
      "|  1|POINT (-97.85608 ...|    1|      true|\n",
      "|  2|POINT (-97.766190...|    0|      true|\n",
      "|  3|POINT (-97.749130...|    0|      true|\n",
      "|  4|POINT (-97.74167 ...|    0|      true|\n",
      "+---+--------------------+-----+----------+\n",
      "only showing top 5 rows\n",
      "\n"
     ]
    },
    {
     "name": "stderr",
     "output_type": "stream",
     "text": [
      "\r",
      "                                                                                \r"
     ]
    }
   ],
   "source": [
    "clustersDf = spark.sql('select a.id as id, a.geometry as geometry, b.component as label, b.core_point as core_point from listings_df a left outer join df_clusters b on a.id = b.point')\n",
    "clustersDf.createOrReplaceTempView(\"clustersDf\")\n",
    "clustersDf.show(5)"
   ]
  },
  {
   "cell_type": "markdown",
   "id": "fd57aa47",
   "metadata": {},
   "source": [
    "## Labeling Noise Points with -1\n",
    "Noise points are not under any cluster. Label them as -1"
   ]
  },
  {
   "cell_type": "code",
   "execution_count": 17,
   "id": "35296d58",
   "metadata": {},
   "outputs": [
    {
     "name": "stderr",
     "output_type": "stream",
     "text": [
      "[Stage 2504:==============================================>    (182 + 10) / 201]\r"
     ]
    },
    {
     "name": "stdout",
     "output_type": "stream",
     "text": [
      "+---+--------------------+-----+----------+\n",
      "| id|            geometry|label|core_point|\n",
      "+---+--------------------+-----+----------+\n",
      "|  0|POINT (-97.75165 ...|    0|      true|\n",
      "|  1|POINT (-97.85608 ...|    1|      true|\n",
      "|  2|POINT (-97.766190...|    0|      true|\n",
      "|  3|POINT (-97.749130...|    0|      true|\n",
      "|  4|POINT (-97.74167 ...|    0|      true|\n",
      "+---+--------------------+-----+----------+\n",
      "only showing top 5 rows\n",
      "\n"
     ]
    },
    {
     "name": "stderr",
     "output_type": "stream",
     "text": [
      "\r",
      "                                                                                \r"
     ]
    }
   ],
   "source": [
    "clustersDf = clustersDf.na.fill(value=-1,subset=[\"label\"])\n",
    "clustersDf = clustersDf.na.fill(value=False,subset=[\"core_point\"])\n",
    "clustersDf.show(5)"
   ]
  },
  {
   "cell_type": "markdown",
   "id": "210e19c6",
   "metadata": {},
   "source": [
    "## Visualize the DBSCAN Clusters and Noises\n",
    "label -1 indicates noise points"
   ]
  },
  {
   "cell_type": "code",
   "execution_count": 18,
   "id": "cb6ce9eb",
   "metadata": {},
   "outputs": [
    {
     "name": "stderr",
     "output_type": "stream",
     "text": [
      "                                                                                \r"
     ]
    },
    {
     "data": {
      "image/png": "[encoded data removed]",
      "text/plain": [
       "<Figure size 640x480 with 1 Axes>"
      ]
     },
     "metadata": {},
     "output_type": "display_data"
    }
   ],
   "source": [
    "clustersGdf = gpd.GeoDataFrame(clustersDf.toPandas(), geometry = \"geometry\")\n",
    "ax = clustersGdf.plot(column='label', categorical=True, aspect = 'equal', legend=True, legend_kwds={'loc': 'center left', 'bbox_to_anchor':(1,0.5)})"
   ]
  },
  {
   "cell_type": "code",
   "execution_count": null,
   "id": "c047951c",
   "metadata": {},
   "outputs": [],
   "source": [
    "%matplot plt"
   ]
  },
  {
   "cell_type": "code",
   "execution_count": null,
   "id": "69a2f43a",
   "metadata": {},
   "outputs": [],
   "source": []
  }
 ],
 "metadata": {
  "kernelspec": {
   "display_name": "PySpark",
   "language": "python",
   "name": "pysparkkernel"
  },
  "language_info": {
   "codemirror_mode": {
    "name": "ipython",
    "version": 3
   },
   "file_extension": ".py",
   "mimetype": "text/x-python",
   "name": "python",
   "nbconvert_exporter": "python",
   "pygments_lexer": "ipython3",
   "version": "3.10.9"
  }
 },
 "nbformat": 4,
 "nbformat_minor": 5
}
