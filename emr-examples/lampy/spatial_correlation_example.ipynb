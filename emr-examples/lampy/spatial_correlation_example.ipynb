{
 "cells": [
  {
   "cell_type": "code",
   "execution_count": null,
   "id": "8cb15d08",
   "metadata": {},
   "outputs": [],
   "source": [
    "%%configure\n",
    "{\n",
    "    \"conf\":{\n",
    "        \"spark.pyspark.virtualenv.enabled\": \"false\"\n",
    "    }\n",
    "}"
   ]
  },
  {
   "cell_type": "code",
   "execution_count": null,
   "id": "a7964b26",
   "metadata": {},
   "outputs": [],
   "source": [
    "# Import local libraries\n",
    "import matplotlib.pyplot as plt\n",
    "import pandas as pd\n",
    "import numpy as np\n",
    "import os\n",
    "import time\n",
    "\n",
    "# Import GeoPandas\n",
    "import geopandas as gpd\n",
    "\n",
    "# Import PySpark\n",
    "from pyspark.sql import SparkSession\n",
    "from pyspark.sql.types import StructField, StructType, StringType, IntegerType, DoubleType, FloatType\n",
    "from pyspark.sql.functions import col\n",
    "\n",
    "# Import Apache Sedona\n",
    "from sedona.register import SedonaRegistrator\n",
    "from sedona.core.formatMapper.shapefileParser import ShapefileReader\n",
    "from sedona.utils import SedonaKryoRegistrator, KryoSerializer\n",
    "from sedona.utils.adapter import Adapter as adp"
   ]
  },
  {
   "cell_type": "markdown",
   "id": "21ea162f",
   "metadata": {},
   "source": [
    "## Define spark session if not defined yet\n",
    "No need to define spark if run in an external cloud"
   ]
  },
  {
   "cell_type": "code",
   "execution_count": null,
   "id": "3856dadb",
   "metadata": {},
   "outputs": [],
   "source": [
    "try:\n",
    "    spark\n",
    "except NameError:\n",
    "    spark = SparkSession. \\\n",
    "    builder. \\\n",
    "    appName('appName'). \\\n",
    "    master('local[*]'). \\\n",
    "    config(\"spark.serializer\", KryoSerializer.getName). \\\n",
    "    config(\"spark.kryo.registrator\", SedonaKryoRegistrator.getName). \\\n",
    "    config(\"fs.s3a.aws.credentials.provider\", \"org.apache.hadoop.fs.s3a.AnonymousAWSCredentialsProvider\"). \\\n",
    "    config(\"spark.hadoop.fs.s3a.aws.credentials.provider\", \"org.apache.hadoop.fs.s3a.AnonymousAWSCredentialsProvider\"). \\\n",
    "    getOrCreate()"
   ]
  },
  {
   "cell_type": "code",
   "execution_count": null,
   "id": "c5fa4fb9",
   "metadata": {},
   "outputs": [],
   "source": [
    "SedonaRegistrator.registerAll(spark)\n",
    "sc = spark.sparkContext\n",
    "sc.setSystemProperty(\"sedona.global.charset\", \"utf8\")\n",
    "sc._jsc.hadoopConfiguration().set(\"fs.s3a.aws.credentials.provider\", \"org.apache.hadoop.fs.s3a.AnonymousAWSCredentialsProvider\")\n",
    "\n",
    "def delete_path(sc, path):\n",
    "    fs = (sc._jvm.org\n",
    "          .apache.hadoop\n",
    "          .fs.FileSystem\n",
    "          .get(sc._jsc.hadoopConfiguration())\n",
    "          )\n",
    "    fs.delete(sc._jvm.org.apache.hadoop.fs.Path(path), True)"
   ]
  },
  {
   "cell_type": "markdown",
   "id": "18fbf7ff",
   "metadata": {},
   "source": [
    "## Use the prefix in all your EMR path\n",
    "\n",
    "If you use EMR, EMR requires that all paths must be relative. Please use the variable below as the prefix for all paths because it can automatically detect if you are in Wherobots environment or not."
   ]
  },
  {
   "cell_type": "code",
   "execution_count": null,
   "id": "38c3159c",
   "metadata": {},
   "outputs": [],
   "source": [
    "from pathlib import Path\n",
    "\n",
    "PATH_PREFIX= str(Path.home()) + '/' if os.environ.get('ENV_WB', 'false') == 'true' else ''\n",
    "\n",
    "print(PATH_PREFIX)"
   ]
  },
  {
   "cell_type": "markdown",
   "id": "4175e98c",
   "metadata": {},
   "source": [
    "## Load Taxi Pick Up Data to Sedona"
   ]
  },
  {
   "cell_type": "code",
   "execution_count": null,
   "id": "c05a79d3",
   "metadata": {},
   "outputs": [],
   "source": [
    "zones_rdd = ShapefileReader.readToGeometryRDD(sc, \"s3a://wherobots-examples/data/pickup_data/shape_file\")\n",
    "zones_df = adp.toDf(zones_rdd, spark)\n",
    "zones_df = zones_df.drop(\"_id\")\n",
    "zones_df = zones_df.rdd.zipWithIndex().toDF()\n",
    "zones_df = zones_df.select(col(\"_1.*\"), col(\"_2\").alias('ids'))\n",
    "zones_df = zones_df.withColumn(\"pickup_count\", zones_df.pickup_cou.cast(IntegerType())).drop(\"pickup_cou\")\n",
    "zones_df.show(5)"
   ]
  },
  {
   "cell_type": "markdown",
   "id": "ee55c583",
   "metadata": {},
   "source": [
    "## Find the Adjacency of Each Pickup Zone\n",
    "The returned DataFrame will contain a new column named binary_adjacency. For each row (zone), it contains the adjacency (1/0) with other zones"
   ]
  },
  {
   "cell_type": "code",
   "execution_count": null,
   "id": "b0a7d370",
   "metadata": {},
   "outputs": [],
   "source": [
    "from lampy import Adjacency\n",
    "from lampy import SpatialAutocorrelation as sa\n",
    "from lampy import SparkRegistration\n",
    "\n",
    "SparkRegistration.set_spark_session(spark)"
   ]
  },
  {
   "cell_type": "code",
   "execution_count": null,
   "id": "ac3e20ed",
   "metadata": {},
   "outputs": [],
   "source": [
    "adjacency_df = Adjacency.get_polygons_adjacency(zones_df, \"ids\", \"geometry\")"
   ]
  },
  {
   "cell_type": "markdown",
   "id": "2ba30724",
   "metadata": {},
   "source": [
    "## Compute Spatial Autocorrelation\n",
    "Get local moran's statistics of the Sedona DataFrame for the attribute pickup_count. The Sedona DataFrame will be returned with a new attribute named local_moran which contains the value of local moran's statistics for each location"
   ]
  },
  {
   "cell_type": "code",
   "execution_count": null,
   "id": "7240a080",
   "metadata": {},
   "outputs": [],
   "source": [
    "local_moran_df = sa.get_local_moran(zones_df, adjacency_df, \"pickup_count\", \"binary_adjacency\", \"ids\", \"id\")\n",
    "local_moran_df.show(5)"
   ]
  },
  {
   "cell_type": "markdown",
   "id": "387b87cc",
   "metadata": {},
   "source": [
    "## Visualize the Local Moran's Index Value for Each Zone"
   ]
  },
  {
   "cell_type": "code",
   "execution_count": null,
   "id": "3a66ad68",
   "metadata": {},
   "outputs": [],
   "source": [
    "local_moran_gdf = gpd.GeoDataFrame(local_moran_df.toPandas(), geometry = \"geometry\", crs = \"EPSG:4326\")\n",
    "local_moran_gdf.plot(column='local_moran', cmap='OrRd', edgecolor='k', aspect = 'equal', legend=True)"
   ]
  },
  {
   "cell_type": "code",
   "execution_count": null,
   "id": "ad71f3f8",
   "metadata": {},
   "outputs": [],
   "source": [
    "%matplot plt"
   ]
  }
 ],
 "metadata": {
  "kernelspec": {
   "display_name": "PySpark",
   "language": "python",
   "name": "pysparkkernel"
  },
  "language_info": {
   "codemirror_mode": {
    "name": "ipython",
    "version": 3
   },
   "file_extension": ".py",
   "mimetype": "text/x-python",
   "name": "python",
   "nbconvert_exporter": "python",
   "pygments_lexer": "ipython3",
   "version": "3.10.9"
  }
 },
 "nbformat": 4,
 "nbformat_minor": 5
}
